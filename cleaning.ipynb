{
 "cells": [
  {
   "attachments": {},
   "cell_type": "markdown",
   "metadata": {},
   "source": [
    "# Import\n"
   ]
  },
  {
   "cell_type": "code",
   "execution_count": 80,
   "metadata": {},
   "outputs": [],
   "source": [
    "# import\n",
    "import pandas as pd\n",
    "import numpy as np\n",
    "import matplotlib.pyplot as plt\n",
    "import seaborn as sns\n",
    "import tensorflow as tf\n",
    "from tensorflow import keras\n"
   ]
  },
  {
   "attachments": {},
   "cell_type": "markdown",
   "metadata": {},
   "source": [
    "# LOAD DATA \n",
    "\n",
    "## Labélisation des données"
   ]
  },
  {
   "cell_type": "code",
   "execution_count": 82,
   "metadata": {},
   "outputs": [
    {
     "name": "stderr",
     "output_type": "stream",
     "text": [
      "C:\\Users\\enzoh\\AppData\\Local\\Temp\\ipykernel_14860\\1072877512.py:8: FutureWarning: The `inplace` parameter in pandas.Categorical.set_categories is deprecated and will be removed in a future version. Removing unused categories will always return a new Categorical object.\n",
      "  df['label'].cat.set_categories(['Normal', 'Keylogger', 'Reverse Shell', 'SYN Flood'], inplace=True)\n"
     ]
    }
   ],
   "source": [
    "df = pd.read_csv('datasetiot.csv')\n",
    "# keep 100 000 first rows\n",
    "df = df.iloc[:100000]\n",
    "# add columns empty columns to the dataframe this will be used to store the labels\n",
    "df['label'] = np.nan\n",
    "df['label'] = df['label'].astype('category')\n",
    "#set category types\n",
    "df['label'].cat.set_categories(['Normal', 'Keylogger', 'Reverse Shell', 'SYN Flood'], inplace=True)\n",
    "\n",
    "# line 0 to 5150 is FTP traffic\n",
    "df.loc[0:5150, 'label'] = 'Normal'\n",
    "# line 5151 to 18600 is SSH traffic\n",
    "df.loc[5151:18600, 'label'] = 'Normal'\n",
    "# line 18601 to 28000 is FTP + SSH traffic\n",
    "df.loc[18601:28000, 'label'] = 'Normal'\n",
    "# line 28000 to 40100 is Keylogger traffic\n",
    "df.loc[28000:40100, 'label'] = 'Keylogger'\n",
    "# line 40101 to 46500 is FTP + SSH \n",
    "df.loc[40101:46500, 'label'] = 'Normal'\n",
    "# line 46501 to 54100 is Reverse Shell\n",
    "df.loc[46501:54100, 'label'] = 'Reverse Shell'\n",
    "# line 54101 to 57150 is FTP + SSH\n",
    "df.loc[54101:57150, 'label'] = 'Normal'\n",
    "# the rest is syn flood\n",
    "df.loc[57151:, 'label'] = 'SYN Flood'\n",
    "# merge label SSH and FTP + SSH and FTP as \"Normal\"\n",
    "\n"
   ]
  },
  {
   "attachments": {},
   "cell_type": "markdown",
   "metadata": {},
   "source": [
    "## Quelques visualisations"
   ]
  },
  {
   "cell_type": "code",
   "execution_count": null,
   "metadata": {},
   "outputs": [
    {
     "data": {
      "image/png": "[encoded data removed]",
      "text/plain": [
       "<Figure size 640x480 with 1 Axes>"
      ]
     },
     "metadata": {},
     "output_type": "display_data"
    }
   ],
   "source": [
    "# plot diffrent features\n",
    "# plot the distribution of the label\n",
    "sns.countplot(x='label', data=df)\n",
    "plt.show()\n",
    "    "
   ]
  },
  {
   "cell_type": "code",
   "execution_count": null,
   "metadata": {},
   "outputs": [
    {
     "name": "stdout",
     "output_type": "stream",
     "text": [
      "Index(['No.', 'Time', 'Source', 'Destination', 'Protocol', 'Length', 'Info',\n",
      "       'label'],\n",
      "      dtype='object')\n"
     ]
    }
   ],
   "source": [
    "# print all features\n",
    "print(df.columns)"
   ]
  },
  {
   "attachments": {},
   "cell_type": "markdown",
   "metadata": {},
   "source": [
    "## Preprocessing\n"
   ]
  },
  {
   "cell_type": "code",
   "execution_count": 83,
   "metadata": {},
   "outputs": [],
   "source": [
    "# preprocess the data\n",
    "# drop the columns that are not needed \"No\" , \"Time\"\n",
    "df = df.drop(['No.', 'Time'], axis=1)\n"
   ]
  },
  {
   "cell_type": "code",
   "execution_count": null,
   "metadata": {},
   "outputs": [
    {
     "data": {
      "text/html": [
       "<div>\n",
       "<style scoped>\n",
       "    .dataframe tbody tr th:only-of-type {\n",
       "        vertical-align: middle;\n",
       "    }\n",
       "\n",
       "    .dataframe tbody tr th {\n",
       "        vertical-align: top;\n",
       "    }\n",
       "\n",
       "    .dataframe thead th {\n",
       "        text-align: right;\n",
       "    }\n",
       "</style>\n",
       "<table border=\"1\" class=\"dataframe\">\n",
       "  <thead>\n",
       "    <tr style=\"text-align: right;\">\n",
       "      <th></th>\n",
       "      <th>Source</th>\n",
       "      <th>Destination</th>\n",
       "      <th>Protocol</th>\n",
       "      <th>Length</th>\n",
       "      <th>Info</th>\n",
       "      <th>label</th>\n",
       "    </tr>\n",
       "  </thead>\n",
       "  <tbody>\n",
       "    <tr>\n",
       "      <th>0</th>\n",
       "      <td>192.168.174.1</td>\n",
       "      <td>239.255.255.250</td>\n",
       "      <td>SSDP</td>\n",
       "      <td>166</td>\n",
       "      <td>M-SEARCH * HTTP/1.1</td>\n",
       "      <td>Normal</td>\n",
       "    </tr>\n",
       "    <tr>\n",
       "      <th>1</th>\n",
       "      <td>192.168.174.1</td>\n",
       "      <td>239.255.255.250</td>\n",
       "      <td>SSDP</td>\n",
       "      <td>171</td>\n",
       "      <td>M-SEARCH * HTTP/1.1</td>\n",
       "      <td>Normal</td>\n",
       "    </tr>\n",
       "    <tr>\n",
       "      <th>2</th>\n",
       "      <td>172.16.0.1</td>\n",
       "      <td>239.255.255.250</td>\n",
       "      <td>SSDP</td>\n",
       "      <td>166</td>\n",
       "      <td>M-SEARCH * HTTP/1.1</td>\n",
       "      <td>Normal</td>\n",
       "    </tr>\n",
       "    <tr>\n",
       "      <th>3</th>\n",
       "      <td>172.16.0.1</td>\n",
       "      <td>239.255.255.250</td>\n",
       "      <td>SSDP</td>\n",
       "      <td>171</td>\n",
       "      <td>M-SEARCH * HTTP/1.1</td>\n",
       "      <td>Normal</td>\n",
       "    </tr>\n",
       "    <tr>\n",
       "      <th>4</th>\n",
       "      <td>192.168.174.1</td>\n",
       "      <td>239.255.255.250</td>\n",
       "      <td>SSDP</td>\n",
       "      <td>166</td>\n",
       "      <td>M-SEARCH * HTTP/1.1</td>\n",
       "      <td>Normal</td>\n",
       "    </tr>\n",
       "  </tbody>\n",
       "</table>\n",
       "</div>"
      ],
      "text/plain": [
       "          Source      Destination Protocol  Length                  Info  \\\n",
       "0  192.168.174.1  239.255.255.250     SSDP     166  M-SEARCH * HTTP/1.1    \n",
       "1  192.168.174.1  239.255.255.250     SSDP     171  M-SEARCH * HTTP/1.1    \n",
       "2     172.16.0.1  239.255.255.250     SSDP     166  M-SEARCH * HTTP/1.1    \n",
       "3     172.16.0.1  239.255.255.250     SSDP     171  M-SEARCH * HTTP/1.1    \n",
       "4  192.168.174.1  239.255.255.250     SSDP     166  M-SEARCH * HTTP/1.1    \n",
       "\n",
       "    label  \n",
       "0  Normal  \n",
       "1  Normal  \n",
       "2  Normal  \n",
       "3  Normal  \n",
       "4  Normal  "
      ]
     },
     "execution_count": 57,
     "metadata": {},
     "output_type": "execute_result"
    }
   ],
   "source": [
    "df.head()"
   ]
  },
  {
   "cell_type": "code",
   "execution_count": 84,
   "metadata": {},
   "outputs": [
    {
     "data": {
      "text/html": [
       "<div>\n",
       "<style scoped>\n",
       "    .dataframe tbody tr th:only-of-type {\n",
       "        vertical-align: middle;\n",
       "    }\n",
       "\n",
       "    .dataframe tbody tr th {\n",
       "        vertical-align: top;\n",
       "    }\n",
       "\n",
       "    .dataframe thead th {\n",
       "        text-align: right;\n",
       "    }\n",
       "</style>\n",
       "<table border=\"1\" class=\"dataframe\">\n",
       "  <thead>\n",
       "    <tr style=\"text-align: right;\">\n",
       "      <th></th>\n",
       "      <th>Source</th>\n",
       "      <th>Destination</th>\n",
       "      <th>Protocol</th>\n",
       "      <th>Length</th>\n",
       "      <th>Info</th>\n",
       "      <th>label</th>\n",
       "    </tr>\n",
       "  </thead>\n",
       "  <tbody>\n",
       "    <tr>\n",
       "      <th>0</th>\n",
       "      <td>10155</td>\n",
       "      <td>11194</td>\n",
       "      <td>13</td>\n",
       "      <td>166</td>\n",
       "      <td>76629</td>\n",
       "      <td>1</td>\n",
       "    </tr>\n",
       "    <tr>\n",
       "      <th>1</th>\n",
       "      <td>10155</td>\n",
       "      <td>11194</td>\n",
       "      <td>13</td>\n",
       "      <td>171</td>\n",
       "      <td>76629</td>\n",
       "      <td>1</td>\n",
       "    </tr>\n",
       "    <tr>\n",
       "      <th>2</th>\n",
       "      <td>8070</td>\n",
       "      <td>11194</td>\n",
       "      <td>13</td>\n",
       "      <td>166</td>\n",
       "      <td>76629</td>\n",
       "      <td>1</td>\n",
       "    </tr>\n",
       "    <tr>\n",
       "      <th>3</th>\n",
       "      <td>8070</td>\n",
       "      <td>11194</td>\n",
       "      <td>13</td>\n",
       "      <td>171</td>\n",
       "      <td>76629</td>\n",
       "      <td>1</td>\n",
       "    </tr>\n",
       "    <tr>\n",
       "      <th>4</th>\n",
       "      <td>10155</td>\n",
       "      <td>11194</td>\n",
       "      <td>13</td>\n",
       "      <td>166</td>\n",
       "      <td>76629</td>\n",
       "      <td>1</td>\n",
       "    </tr>\n",
       "  </tbody>\n",
       "</table>\n",
       "</div>"
      ],
      "text/plain": [
       "   Source  Destination  Protocol  Length   Info  label\n",
       "0   10155        11194        13     166  76629      1\n",
       "1   10155        11194        13     171  76629      1\n",
       "2    8070        11194        13     166  76629      1\n",
       "3    8070        11194        13     171  76629      1\n",
       "4   10155        11194        13     166  76629      1"
      ]
     },
     "execution_count": 84,
     "metadata": {},
     "output_type": "execute_result"
    }
   ],
   "source": [
    "from sklearn.preprocessing import LabelEncoder\n",
    "label_encoder = LabelEncoder()\n",
    "df['label'] = label_encoder.fit_transform(df['label'])\n",
    "df.head()\n",
    "\n",
    "# convert categorical data to numerical data\n",
    "df['Protocol'] = df['Protocol'].astype('category')\n",
    "df['Protocol'] = df['Protocol'].cat.codes\n",
    "df['Source'] = df['Source'].astype('category')\n",
    "df['Source'] = df['Source'].cat.codes\n",
    "df['Destination'] = df['Destination'].astype('category')\n",
    "df['Destination'] = df['Destination'].cat.codes\n",
    "df['Info'] = df['Info'].astype('category')\n",
    "df['Info'] = df['Info'].cat.codes\n",
    "df.head()\n",
    "\n"
   ]
  },
  {
   "cell_type": "code",
   "execution_count": 85,
   "metadata": {},
   "outputs": [
    {
     "name": "stdout",
     "output_type": "stream",
     "text": [
      "[1 0 2 3]\n",
      "3    42849\n",
      "1    37450\n",
      "0    12101\n",
      "2     7600\n",
      "Name: label, dtype: int64\n"
     ]
    }
   ],
   "source": [
    "# print all values of the label\n",
    "print(df['label'].unique())\n",
    "# print count of each label\n",
    "print(df['label'].value_counts())"
   ]
  },
  {
   "attachments": {},
   "cell_type": "markdown",
   "metadata": {},
   "source": [
    "## Création des données d'entrainement et de test"
   ]
  },
  {
   "cell_type": "code",
   "execution_count": 92,
   "metadata": {},
   "outputs": [],
   "source": [
    "def format_data_time_step(data, time_step):\n",
    "    train_indices = [(0, 3500), (5150, 13000), (18600, 24500), (28000, 35000), (40100, 44000), (46500, 51500), (54101, int((len(data))*0.7))]\n",
    "    val_indices = [(3501, 4300), (13001, 15500), (24501, 26500), (35001, 37500), (44000, 45250), (51501, 52750), (int((len(data))*0.7), int((len(data))*0.85))]\n",
    "    test_indices = [(4301, 5150), (15501, 18600), (26501, 28000), (37501, 40100), (45251, 46500), (52750, 54100), (int((len(data))*0.85), len(data))]\n",
    "\n",
    "    # create the training, validation, and test dataframes, including the parts inside each tuple\n",
    "    train_df = pd.concat([data.iloc[start:end] for start, end in train_indices])\n",
    "    val_df = pd.concat([data.iloc[start:end] for start, end in val_indices])\n",
    "    test_df = pd.concat([data.iloc[start:end] for start, end in test_indices])\n",
    "\n",
    "    train_df = train_df.drop(['label'], axis=1)\n",
    "    train_labels = train_df['label']\n",
    "\n",
    "    val_df = val_df.drop(['label'], axis=1)\n",
    "    val_labels = val_df['label']\n",
    "\n",
    "    test_data = test_df.drop(['label'], axis=1)\n",
    "    test_labels = test_data['label']\n",
    "\n",
    "    # print the shape of the dataframes\n",
    "    print(train_df.shape)\n",
    "    print(val_df.shape)\n",
    "    print(test_df.shape)\n",
    "\n",
    "    # convert the dataframes to numpy arrays\n",
    "    train_df = np.array(train_df)\n",
    "    train_labels = np.array(train_labels)\n",
    "    val_df = np.array(val_df)\n",
    "\n",
    "    val_labels = np.array(val_labels)\n",
    "    test_df = np.array(test_df)\n",
    "    test_labels = np.array(test_labels)\n",
    "\n",
    "    # reshape the data to be in the shape of (samples, time steps, features)\n",
    "    train_df = train_df.reshape((train_df.shape[0], time_step, train_df.shape[1]))\n",
    "    val_df = val_df.reshape((val_df.shape[0], time_step, val_df.shape[1]))\n",
    "    test_df = test_df.reshape((test_df.shape[0], time_step, test_df.shape[1]))\n",
    "\n",
    "    return train_df, train_labels, val_df, val_labels, test_df, test_labels\n"
   ]
  },
  {
   "cell_type": "code",
   "execution_count": 93,
   "metadata": {},
   "outputs": [
    {
     "ename": "KeyError",
     "evalue": "'label'",
     "output_type": "error",
     "traceback": [
      "\u001b[1;31m---------------------------------------------------------------------------\u001b[0m",
      "\u001b[1;31mKeyError\u001b[0m                                  Traceback (most recent call last)",
      "File \u001b[1;32mc:\\Users\\enzoh\\AppData\\Local\\Programs\\Python\\Python310\\lib\\site-packages\\pandas\\core\\indexes\\base.py:3803\u001b[0m, in \u001b[0;36mIndex.get_loc\u001b[1;34m(self, key, method, tolerance)\u001b[0m\n\u001b[0;32m   3802\u001b[0m \u001b[39mtry\u001b[39;00m:\n\u001b[1;32m-> 3803\u001b[0m     \u001b[39mreturn\u001b[39;00m \u001b[39mself\u001b[39;49m\u001b[39m.\u001b[39;49m_engine\u001b[39m.\u001b[39;49mget_loc(casted_key)\n\u001b[0;32m   3804\u001b[0m \u001b[39mexcept\u001b[39;00m \u001b[39mKeyError\u001b[39;00m \u001b[39mas\u001b[39;00m err:\n",
      "File \u001b[1;32mc:\\Users\\enzoh\\AppData\\Local\\Programs\\Python\\Python310\\lib\\site-packages\\pandas\\_libs\\index.pyx:138\u001b[0m, in \u001b[0;36mpandas._libs.index.IndexEngine.get_loc\u001b[1;34m()\u001b[0m\n",
      "File \u001b[1;32mc:\\Users\\enzoh\\AppData\\Local\\Programs\\Python\\Python310\\lib\\site-packages\\pandas\\_libs\\index.pyx:165\u001b[0m, in \u001b[0;36mpandas._libs.index.IndexEngine.get_loc\u001b[1;34m()\u001b[0m\n",
      "File \u001b[1;32mpandas\\_libs\\hashtable_class_helper.pxi:5745\u001b[0m, in \u001b[0;36mpandas._libs.hashtable.PyObjectHashTable.get_item\u001b[1;34m()\u001b[0m\n",
      "File \u001b[1;32mpandas\\_libs\\hashtable_class_helper.pxi:5753\u001b[0m, in \u001b[0;36mpandas._libs.hashtable.PyObjectHashTable.get_item\u001b[1;34m()\u001b[0m\n",
      "\u001b[1;31mKeyError\u001b[0m: 'label'",
      "\nThe above exception was the direct cause of the following exception:\n",
      "\u001b[1;31mKeyError\u001b[0m                                  Traceback (most recent call last)",
      "Cell \u001b[1;32mIn[93], line 1\u001b[0m\n\u001b[1;32m----> 1\u001b[0m train_data, train_labels, val_data, val_labels, test_data, test_labels \u001b[39m=\u001b[39m format_data_time_step(df, \u001b[39m100\u001b[39;49m)\n",
      "Cell \u001b[1;32mIn[92], line 12\u001b[0m, in \u001b[0;36mformat_data_time_step\u001b[1;34m(data, time_step)\u001b[0m\n\u001b[0;32m      9\u001b[0m test_df \u001b[39m=\u001b[39m pd\u001b[39m.\u001b[39mconcat([data\u001b[39m.\u001b[39miloc[start:end] \u001b[39mfor\u001b[39;00m start, end \u001b[39min\u001b[39;00m test_indices])\n\u001b[0;32m     11\u001b[0m train_df \u001b[39m=\u001b[39m train_df\u001b[39m.\u001b[39mdrop([\u001b[39m'\u001b[39m\u001b[39mlabel\u001b[39m\u001b[39m'\u001b[39m], axis\u001b[39m=\u001b[39m\u001b[39m1\u001b[39m)\n\u001b[1;32m---> 12\u001b[0m train_labels \u001b[39m=\u001b[39m train_df[\u001b[39m'\u001b[39;49m\u001b[39mlabel\u001b[39;49m\u001b[39m'\u001b[39;49m]\n\u001b[0;32m     14\u001b[0m val_df \u001b[39m=\u001b[39m val_df\u001b[39m.\u001b[39mdrop([\u001b[39m'\u001b[39m\u001b[39mlabel\u001b[39m\u001b[39m'\u001b[39m], axis\u001b[39m=\u001b[39m\u001b[39m1\u001b[39m)\n\u001b[0;32m     15\u001b[0m val_labels \u001b[39m=\u001b[39m val_df[\u001b[39m'\u001b[39m\u001b[39mlabel\u001b[39m\u001b[39m'\u001b[39m]\n",
      "File \u001b[1;32mc:\\Users\\enzoh\\AppData\\Local\\Programs\\Python\\Python310\\lib\\site-packages\\pandas\\core\\frame.py:3805\u001b[0m, in \u001b[0;36mDataFrame.__getitem__\u001b[1;34m(self, key)\u001b[0m\n\u001b[0;32m   3803\u001b[0m \u001b[39mif\u001b[39;00m \u001b[39mself\u001b[39m\u001b[39m.\u001b[39mcolumns\u001b[39m.\u001b[39mnlevels \u001b[39m>\u001b[39m \u001b[39m1\u001b[39m:\n\u001b[0;32m   3804\u001b[0m     \u001b[39mreturn\u001b[39;00m \u001b[39mself\u001b[39m\u001b[39m.\u001b[39m_getitem_multilevel(key)\n\u001b[1;32m-> 3805\u001b[0m indexer \u001b[39m=\u001b[39m \u001b[39mself\u001b[39;49m\u001b[39m.\u001b[39;49mcolumns\u001b[39m.\u001b[39;49mget_loc(key)\n\u001b[0;32m   3806\u001b[0m \u001b[39mif\u001b[39;00m is_integer(indexer):\n\u001b[0;32m   3807\u001b[0m     indexer \u001b[39m=\u001b[39m [indexer]\n",
      "File \u001b[1;32mc:\\Users\\enzoh\\AppData\\Local\\Programs\\Python\\Python310\\lib\\site-packages\\pandas\\core\\indexes\\base.py:3805\u001b[0m, in \u001b[0;36mIndex.get_loc\u001b[1;34m(self, key, method, tolerance)\u001b[0m\n\u001b[0;32m   3803\u001b[0m     \u001b[39mreturn\u001b[39;00m \u001b[39mself\u001b[39m\u001b[39m.\u001b[39m_engine\u001b[39m.\u001b[39mget_loc(casted_key)\n\u001b[0;32m   3804\u001b[0m \u001b[39mexcept\u001b[39;00m \u001b[39mKeyError\u001b[39;00m \u001b[39mas\u001b[39;00m err:\n\u001b[1;32m-> 3805\u001b[0m     \u001b[39mraise\u001b[39;00m \u001b[39mKeyError\u001b[39;00m(key) \u001b[39mfrom\u001b[39;00m \u001b[39merr\u001b[39;00m\n\u001b[0;32m   3806\u001b[0m \u001b[39mexcept\u001b[39;00m \u001b[39mTypeError\u001b[39;00m:\n\u001b[0;32m   3807\u001b[0m     \u001b[39m# If we have a listlike key, _check_indexing_error will raise\u001b[39;00m\n\u001b[0;32m   3808\u001b[0m     \u001b[39m#  InvalidIndexError. Otherwise we fall through and re-raise\u001b[39;00m\n\u001b[0;32m   3809\u001b[0m     \u001b[39m#  the TypeError.\u001b[39;00m\n\u001b[0;32m   3810\u001b[0m     \u001b[39mself\u001b[39m\u001b[39m.\u001b[39m_check_indexing_error(key)\n",
      "\u001b[1;31mKeyError\u001b[0m: 'label'"
     ]
    }
   ],
   "source": [
    "train_data, train_labels, val_data, val_labels, test_data, test_labels = format_data_time_step(df, 100)\n",
    "\n"
   ]
  }
 ],
 "metadata": {
  "kernelspec": {
   "display_name": "Python 3",
   "language": "python",
   "name": "python3"
  },
  "language_info": {
   "codemirror_mode": {
    "name": "ipython",
    "version": 3
   },
   "file_extension": ".py",
   "mimetype": "text/x-python",
   "name": "python",
   "nbconvert_exporter": "python",
   "pygments_lexer": "ipython3",
   "version": "3.10.9"
  },
  "orig_nbformat": 4
 },
 "nbformat": 4,
 "nbformat_minor": 2
}
