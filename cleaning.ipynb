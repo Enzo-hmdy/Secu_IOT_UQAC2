{
 "cells": [
  {
   "attachments": {},
   "cell_type": "markdown",
   "metadata": {},
   "source": [
    "# Import\n"
   ]
  },
  {
   "cell_type": "code",
   "execution_count": 42,
   "metadata": {},
   "outputs": [],
   "source": [
    "# import\n",
    "import pandas as pd\n",
    "import numpy as np\n",
    "import matplotlib.pyplot as plt\n",
    "import seaborn as sns\n",
    "import tensorflow as tf\n",
    "from tensorflow import keras\n"
   ]
  },
  {
   "attachments": {},
   "cell_type": "markdown",
   "metadata": {},
   "source": [
    "# LOAD DATA \n",
    "\n",
    "## Labélisation des données"
   ]
  },
  {
   "cell_type": "code",
   "execution_count": 46,
   "metadata": {},
   "outputs": [
    {
     "name": "stderr",
     "output_type": "stream",
     "text": [
      "C:\\Users\\enzoh\\AppData\\Local\\Temp\\ipykernel_21588\\1072877512.py:8: FutureWarning: The `inplace` parameter in pandas.Categorical.set_categories is deprecated and will be removed in a future version. Removing unused categories will always return a new Categorical object.\n",
      "  df['label'].cat.set_categories(['Normal', 'Keylogger', 'Reverse Shell', 'SYN Flood'], inplace=True)\n"
     ]
    }
   ],
   "source": [
    "df = pd.read_csv('datasetiot.csv')\n",
    "# keep 100 000 first rows\n",
    "df = df.iloc[:100000]\n",
    "# add columns empty columns to the dataframe this will be used to store the labels\n",
    "df['label'] = np.nan\n",
    "df['label'] = df['label'].astype('category')\n",
    "#set category types\n",
    "df['label'].cat.set_categories(['Normal', 'Keylogger', 'Reverse Shell', 'SYN Flood'], inplace=True)\n",
    "\n",
    "# line 0 to 5150 is FTP traffic\n",
    "df.loc[0:5150, 'label'] = 'Normal'\n",
    "# line 5151 to 18600 is SSH traffic\n",
    "df.loc[5151:18600, 'label'] = 'Normal'\n",
    "# line 18601 to 28000 is FTP + SSH traffic\n",
    "df.loc[18601:28000, 'label'] = 'Normal'\n",
    "# line 28000 to 40100 is Keylogger traffic\n",
    "df.loc[28000:40100, 'label'] = 'Keylogger'\n",
    "# line 40101 to 46500 is FTP + SSH \n",
    "df.loc[40101:46500, 'label'] = 'Normal'\n",
    "# line 46501 to 54100 is Reverse Shell\n",
    "df.loc[46501:54100, 'label'] = 'Reverse Shell'\n",
    "# line 54101 to 57150 is FTP + SSH\n",
    "df.loc[54101:57150, 'label'] = 'Normal'\n",
    "# the rest is syn flood\n",
    "df.loc[57151:, 'label'] = 'SYN Flood'\n",
    "# merge label SSH and FTP + SSH and FTP as \"Normal\"\n",
    "\n"
   ]
  },
  {
   "cell_type": "code",
   "execution_count": 47,
   "metadata": {},
   "outputs": [
    {
     "data": {
      "text/plain": [
       "Normal           270\n",
       "Keylogger         44\n",
       "Reverse Shell     34\n",
       "SYN Flood          4\n",
       "Name: label, dtype: int64"
      ]
     },
     "execution_count": 47,
     "metadata": {},
     "output_type": "execute_result"
    }
   ],
   "source": [
    "# show labels for protocol DNS\n",
    "df.loc[df['Protocol'] == 'DNS', 'label'].value_counts()"
   ]
  },
  {
   "cell_type": "code",
   "execution_count": 49,
   "metadata": {},
   "outputs": [],
   "source": [
    "# show labels for protocol  FTP, and TLSv1 and TLSv1.2 and SSDP AND FTP-DATA\n",
    "df.loc[df['Protocol'].isin(['FTP', 'TLSv1', 'TLSv1.2', 'SSDP', 'FTP-DATA']), 'label'].value_counts()\n",
    "# class these protocols as normal\n",
    "df.loc[df['Protocol'].isin(['FTP', 'TLSv1', 'TLSv1.2', 'SSDP', 'FTP-DATA']), 'label'] = 'Normal'"
   ]
  },
  {
   "cell_type": "code",
   "execution_count": null,
   "metadata": {},
   "outputs": [],
   "source": []
  },
  {
   "attachments": {},
   "cell_type": "markdown",
   "metadata": {},
   "source": [
    "## Quelques visualisations"
   ]
  },
  {
   "cell_type": "code",
   "execution_count": 50,
   "metadata": {},
   "outputs": [
    {
     "data": {
      "image/png": "[encoded data removed]",
      "text/plain": [
       "<Figure size 640x480 with 1 Axes>"
      ]
     },
     "metadata": {},
     "output_type": "display_data"
    }
   ],
   "source": [
    "# plot diffrent features\n",
    "# plot the distribution of the label\n",
    "sns.countplot(x='label', data=df)\n",
    "plt.show()\n",
    "    "
   ]
  },
  {
   "cell_type": "code",
   "execution_count": 51,
   "metadata": {},
   "outputs": [
    {
     "name": "stdout",
     "output_type": "stream",
     "text": [
      "Index(['No.', 'Time', 'Source', 'Destination', 'Protocol', 'Length', 'Info',\n",
      "       'label'],\n",
      "      dtype='object')\n"
     ]
    }
   ],
   "source": [
    "# print all features\n",
    "print(df.columns)"
   ]
  },
  {
   "attachments": {},
   "cell_type": "markdown",
   "metadata": {},
   "source": [
    "## Preprocessing\n"
   ]
  },
  {
   "cell_type": "code",
   "execution_count": 28,
   "metadata": {},
   "outputs": [],
   "source": [
    "# preprocess the data\n",
    "# drop the columns that are not needed \"No\" , \"Time\"\n",
    "#df = df.drop(['No.', 'Time'], axis=1)\n"
   ]
  },
  {
   "cell_type": "code",
   "execution_count": 29,
   "metadata": {},
   "outputs": [
    {
     "data": {
      "text/html": [
       "<div>\n",
       "<style scoped>\n",
       "    .dataframe tbody tr th:only-of-type {\n",
       "        vertical-align: middle;\n",
       "    }\n",
       "\n",
       "    .dataframe tbody tr th {\n",
       "        vertical-align: top;\n",
       "    }\n",
       "\n",
       "    .dataframe thead th {\n",
       "        text-align: right;\n",
       "    }\n",
       "</style>\n",
       "<table border=\"1\" class=\"dataframe\">\n",
       "  <thead>\n",
       "    <tr style=\"text-align: right;\">\n",
       "      <th></th>\n",
       "      <th>No.</th>\n",
       "      <th>Time</th>\n",
       "      <th>Source</th>\n",
       "      <th>Destination</th>\n",
       "      <th>Protocol</th>\n",
       "      <th>Length</th>\n",
       "      <th>Info</th>\n",
       "      <th>label</th>\n",
       "    </tr>\n",
       "  </thead>\n",
       "  <tbody>\n",
       "    <tr>\n",
       "      <th>0</th>\n",
       "      <td>1</td>\n",
       "      <td>0.000000</td>\n",
       "      <td>192.168.174.1</td>\n",
       "      <td>239.255.255.250</td>\n",
       "      <td>SSDP</td>\n",
       "      <td>166</td>\n",
       "      <td>M-SEARCH * HTTP/1.1</td>\n",
       "      <td>Normal</td>\n",
       "    </tr>\n",
       "    <tr>\n",
       "      <th>1</th>\n",
       "      <td>2</td>\n",
       "      <td>0.060725</td>\n",
       "      <td>192.168.174.1</td>\n",
       "      <td>239.255.255.250</td>\n",
       "      <td>SSDP</td>\n",
       "      <td>171</td>\n",
       "      <td>M-SEARCH * HTTP/1.1</td>\n",
       "      <td>Normal</td>\n",
       "    </tr>\n",
       "    <tr>\n",
       "      <th>2</th>\n",
       "      <td>3</td>\n",
       "      <td>-0.001392</td>\n",
       "      <td>172.16.0.1</td>\n",
       "      <td>239.255.255.250</td>\n",
       "      <td>SSDP</td>\n",
       "      <td>166</td>\n",
       "      <td>M-SEARCH * HTTP/1.1</td>\n",
       "      <td>Normal</td>\n",
       "    </tr>\n",
       "    <tr>\n",
       "      <th>3</th>\n",
       "      <td>4</td>\n",
       "      <td>0.060623</td>\n",
       "      <td>172.16.0.1</td>\n",
       "      <td>239.255.255.250</td>\n",
       "      <td>SSDP</td>\n",
       "      <td>171</td>\n",
       "      <td>M-SEARCH * HTTP/1.1</td>\n",
       "      <td>Normal</td>\n",
       "    </tr>\n",
       "    <tr>\n",
       "      <th>4</th>\n",
       "      <td>5</td>\n",
       "      <td>10.001488</td>\n",
       "      <td>192.168.174.1</td>\n",
       "      <td>239.255.255.250</td>\n",
       "      <td>SSDP</td>\n",
       "      <td>166</td>\n",
       "      <td>M-SEARCH * HTTP/1.1</td>\n",
       "      <td>Normal</td>\n",
       "    </tr>\n",
       "  </tbody>\n",
       "</table>\n",
       "</div>"
      ],
      "text/plain": [
       "   No.       Time         Source      Destination Protocol  Length  \\\n",
       "0    1   0.000000  192.168.174.1  239.255.255.250     SSDP     166   \n",
       "1    2   0.060725  192.168.174.1  239.255.255.250     SSDP     171   \n",
       "2    3  -0.001392     172.16.0.1  239.255.255.250     SSDP     166   \n",
       "3    4   0.060623     172.16.0.1  239.255.255.250     SSDP     171   \n",
       "4    5  10.001488  192.168.174.1  239.255.255.250     SSDP     166   \n",
       "\n",
       "                   Info   label  \n",
       "0  M-SEARCH * HTTP/1.1   Normal  \n",
       "1  M-SEARCH * HTTP/1.1   Normal  \n",
       "2  M-SEARCH * HTTP/1.1   Normal  \n",
       "3  M-SEARCH * HTTP/1.1   Normal  \n",
       "4  M-SEARCH * HTTP/1.1   Normal  "
      ]
     },
     "execution_count": 29,
     "metadata": {},
     "output_type": "execute_result"
    }
   ],
   "source": [
    "df.head()"
   ]
  },
  {
   "cell_type": "code",
   "execution_count": 52,
   "metadata": {},
   "outputs": [
    {
     "data": {
      "text/html": [
       "<div>\n",
       "<style scoped>\n",
       "    .dataframe tbody tr th:only-of-type {\n",
       "        vertical-align: middle;\n",
       "    }\n",
       "\n",
       "    .dataframe tbody tr th {\n",
       "        vertical-align: top;\n",
       "    }\n",
       "\n",
       "    .dataframe thead th {\n",
       "        text-align: right;\n",
       "    }\n",
       "</style>\n",
       "<table border=\"1\" class=\"dataframe\">\n",
       "  <thead>\n",
       "    <tr style=\"text-align: right;\">\n",
       "      <th></th>\n",
       "      <th>No.</th>\n",
       "      <th>Time</th>\n",
       "      <th>Source</th>\n",
       "      <th>Destination</th>\n",
       "      <th>Protocol</th>\n",
       "      <th>Length</th>\n",
       "      <th>Info</th>\n",
       "      <th>label</th>\n",
       "    </tr>\n",
       "  </thead>\n",
       "  <tbody>\n",
       "    <tr>\n",
       "      <th>0</th>\n",
       "      <td>1</td>\n",
       "      <td>0.000000</td>\n",
       "      <td>10155</td>\n",
       "      <td>11194</td>\n",
       "      <td>13</td>\n",
       "      <td>166</td>\n",
       "      <td>76629</td>\n",
       "      <td>Normal</td>\n",
       "    </tr>\n",
       "    <tr>\n",
       "      <th>1</th>\n",
       "      <td>2</td>\n",
       "      <td>0.060725</td>\n",
       "      <td>10155</td>\n",
       "      <td>11194</td>\n",
       "      <td>13</td>\n",
       "      <td>171</td>\n",
       "      <td>76629</td>\n",
       "      <td>Normal</td>\n",
       "    </tr>\n",
       "    <tr>\n",
       "      <th>2</th>\n",
       "      <td>3</td>\n",
       "      <td>-0.001392</td>\n",
       "      <td>8070</td>\n",
       "      <td>11194</td>\n",
       "      <td>13</td>\n",
       "      <td>166</td>\n",
       "      <td>76629</td>\n",
       "      <td>Normal</td>\n",
       "    </tr>\n",
       "    <tr>\n",
       "      <th>3</th>\n",
       "      <td>4</td>\n",
       "      <td>0.060623</td>\n",
       "      <td>8070</td>\n",
       "      <td>11194</td>\n",
       "      <td>13</td>\n",
       "      <td>171</td>\n",
       "      <td>76629</td>\n",
       "      <td>Normal</td>\n",
       "    </tr>\n",
       "    <tr>\n",
       "      <th>4</th>\n",
       "      <td>5</td>\n",
       "      <td>10.001488</td>\n",
       "      <td>10155</td>\n",
       "      <td>11194</td>\n",
       "      <td>13</td>\n",
       "      <td>166</td>\n",
       "      <td>76629</td>\n",
       "      <td>Normal</td>\n",
       "    </tr>\n",
       "  </tbody>\n",
       "</table>\n",
       "</div>"
      ],
      "text/plain": [
       "   No.       Time  Source  Destination  Protocol  Length   Info   label\n",
       "0    1   0.000000   10155        11194        13     166  76629  Normal\n",
       "1    2   0.060725   10155        11194        13     171  76629  Normal\n",
       "2    3  -0.001392    8070        11194        13     166  76629  Normal\n",
       "3    4   0.060623    8070        11194        13     171  76629  Normal\n",
       "4    5  10.001488   10155        11194        13     166  76629  Normal"
      ]
     },
     "execution_count": 52,
     "metadata": {},
     "output_type": "execute_result"
    }
   ],
   "source": [
    "from sklearn.preprocessing import LabelEncoder\n",
    "label_encoder = LabelEncoder()\n",
    "df['label'] = label_encoder.fit_transform(df['label'])\n",
    "df.head()\n",
    "\n",
    "# convert categorical data to numerical data\n",
    "df['Protocol'] = df['Protocol'].astype('category')\n",
    "df['Protocol'] = df['Protocol'].cat.codes\n",
    "df['Source'] = df['Source'].astype('category')\n",
    "df['Source'] = df['Source'].cat.codes\n",
    "df['Destination'] = df['Destination'].astype('category')\n",
    "df['Destination'] = df['Destination'].cat.codes\n",
    "df['Info'] = df['Info'].astype('category')\n",
    "df['Info'] = df['Info'].cat.codes\n",
    "df.head()\n",
    "\n",
    "\n",
    "# label_encoders = {}\n",
    "# for column in df.columns:\n",
    "#     if df[column].dtype == type(object):\n",
    "#         label_encoders[column] = LabelEncoder()\n",
    "#         df[column] = label_encoders[column].fit_transform(df[column])\n",
    "\n",
    "# df.head()\n"
   ]
  },
  {
   "cell_type": "code",
   "execution_count": 45,
   "metadata": {},
   "outputs": [
    {
     "data": {
      "text/plain": [
       "No.               int64\n",
       "Time            float64\n",
       "Source           object\n",
       "Destination      object\n",
       "Protocol         object\n",
       "Length            int64\n",
       "Info             object\n",
       "label          category\n",
       "dtype: object"
      ]
     },
     "execution_count": 45,
     "metadata": {},
     "output_type": "execute_result"
    }
   ],
   "source": [
    "df.dtypes"
   ]
  },
  {
   "cell_type": "code",
   "execution_count": 37,
   "metadata": {},
   "outputs": [
    {
     "data": {
      "text/plain": [
       "3    42849\n",
       "1    37450\n",
       "0    12101\n",
       "2     7600\n",
       "Name: label, dtype: int64"
      ]
     },
     "execution_count": 37,
     "metadata": {},
     "output_type": "execute_result"
    }
   ],
   "source": [
    "# vlaue count of label\n",
    "df['label'].value_counts()"
   ]
  },
  {
   "cell_type": "code",
   "execution_count": 41,
   "metadata": {},
   "outputs": [
    {
     "name": "stderr",
     "output_type": "stream",
     "text": [
      "c:\\Users\\enzoh\\AppData\\Local\\Programs\\Python\\Python310\\lib\\site-packages\\sklearn\\cluster\\_kmeans.py:870: FutureWarning: The default value of `n_init` will change from 10 to 'auto' in 1.4. Set the value of `n_init` explicitly to suppress the warning\n",
      "  warnings.warn(\n"
     ]
    },
    {
     "data": {
      "text/html": [
       "<div>\n",
       "<style scoped>\n",
       "    .dataframe tbody tr th:only-of-type {\n",
       "        vertical-align: middle;\n",
       "    }\n",
       "\n",
       "    .dataframe tbody tr th {\n",
       "        vertical-align: top;\n",
       "    }\n",
       "\n",
       "    .dataframe thead th {\n",
       "        text-align: right;\n",
       "    }\n",
       "</style>\n",
       "<table border=\"1\" class=\"dataframe\">\n",
       "  <thead>\n",
       "    <tr style=\"text-align: right;\">\n",
       "      <th></th>\n",
       "      <th>Source</th>\n",
       "      <th>Destination</th>\n",
       "      <th>Protocol</th>\n",
       "      <th>Length</th>\n",
       "      <th>Info</th>\n",
       "      <th>label</th>\n",
       "      <th>cluster</th>\n",
       "    </tr>\n",
       "  </thead>\n",
       "  <tbody>\n",
       "    <tr>\n",
       "      <th>0</th>\n",
       "      <td>10155</td>\n",
       "      <td>11194</td>\n",
       "      <td>13</td>\n",
       "      <td>166</td>\n",
       "      <td>76629</td>\n",
       "      <td>1</td>\n",
       "      <td>1</td>\n",
       "    </tr>\n",
       "    <tr>\n",
       "      <th>1</th>\n",
       "      <td>10155</td>\n",
       "      <td>11194</td>\n",
       "      <td>13</td>\n",
       "      <td>171</td>\n",
       "      <td>76629</td>\n",
       "      <td>1</td>\n",
       "      <td>1</td>\n",
       "    </tr>\n",
       "    <tr>\n",
       "      <th>2</th>\n",
       "      <td>8070</td>\n",
       "      <td>11194</td>\n",
       "      <td>13</td>\n",
       "      <td>166</td>\n",
       "      <td>76629</td>\n",
       "      <td>1</td>\n",
       "      <td>1</td>\n",
       "    </tr>\n",
       "    <tr>\n",
       "      <th>3</th>\n",
       "      <td>8070</td>\n",
       "      <td>11194</td>\n",
       "      <td>13</td>\n",
       "      <td>171</td>\n",
       "      <td>76629</td>\n",
       "      <td>1</td>\n",
       "      <td>1</td>\n",
       "    </tr>\n",
       "    <tr>\n",
       "      <th>4</th>\n",
       "      <td>10155</td>\n",
       "      <td>11194</td>\n",
       "      <td>13</td>\n",
       "      <td>166</td>\n",
       "      <td>76629</td>\n",
       "      <td>1</td>\n",
       "      <td>1</td>\n",
       "    </tr>\n",
       "  </tbody>\n",
       "</table>\n",
       "</div>"
      ],
      "text/plain": [
       "   Source  Destination  Protocol  Length   Info  label  cluster\n",
       "0   10155        11194        13     166  76629      1        1\n",
       "1   10155        11194        13     171  76629      1        1\n",
       "2    8070        11194        13     166  76629      1        1\n",
       "3    8070        11194        13     171  76629      1        1\n",
       "4   10155        11194        13     166  76629      1        1"
      ]
     },
     "execution_count": 41,
     "metadata": {},
     "output_type": "execute_result"
    }
   ],
   "source": [
    "from sklearn.cluster import KMeans\n",
    "\n",
    "df_normal = df[df['label'] == 1]\n",
    "# drop first and second columns\n",
    "df_normal = df_normal.drop(df_normal.columns[[0, 1]], axis=1)\n",
    "# find line that are similar to each other and show how many similar lines there are\n",
    "# create a copy of the dataframe\n",
    "df_clustered = df_normal.copy()\n",
    "\n",
    "# fit and predict K-means clustering on the encoded data\n",
    "kmeans = KMeans(n_clusters=5)\n",
    "clusters = kmeans.fit_predict(df_clustered.select_dtypes(include=[np.number]))\n",
    "\n",
    "# add the cluster labels to the copy of the original dataframe\n",
    "df_clustered['cluster'] = clusters\n",
    "\n",
    "#inverse label encore for all columns that were encoded\n",
    "#inverse label encoding for all columns that were encoded\n",
    "for column, encoder in label_encoders.items():\n",
    "    if column in df_clustered.columns:\n",
    "        df_clustered[column] = encoder.inverse_transform(df_clustered[column].astype(int))\n",
    "\n",
    "\n",
    "df_clustered.head()\n"
   ]
  },
  {
   "cell_type": "code",
   "execution_count": 11,
   "metadata": {},
   "outputs": [
    {
     "data": {
      "text/html": [
       "<div>\n",
       "<style scoped>\n",
       "    .dataframe tbody tr th:only-of-type {\n",
       "        vertical-align: middle;\n",
       "    }\n",
       "\n",
       "    .dataframe tbody tr th {\n",
       "        vertical-align: top;\n",
       "    }\n",
       "\n",
       "    .dataframe thead th {\n",
       "        text-align: right;\n",
       "    }\n",
       "</style>\n",
       "<table border=\"1\" class=\"dataframe\">\n",
       "  <thead>\n",
       "    <tr style=\"text-align: right;\">\n",
       "      <th></th>\n",
       "      <th>Source</th>\n",
       "      <th>Destination</th>\n",
       "      <th>Protocol</th>\n",
       "      <th>Length</th>\n",
       "      <th>Info</th>\n",
       "      <th>label</th>\n",
       "      <th>cluster</th>\n",
       "    </tr>\n",
       "  </thead>\n",
       "  <tbody>\n",
       "    <tr>\n",
       "      <th>0</th>\n",
       "      <td>22</td>\n",
       "      <td>39</td>\n",
       "      <td>13</td>\n",
       "      <td>166</td>\n",
       "      <td>21791</td>\n",
       "      <td>1</td>\n",
       "      <td>1</td>\n",
       "    </tr>\n",
       "    <tr>\n",
       "      <th>1</th>\n",
       "      <td>22</td>\n",
       "      <td>39</td>\n",
       "      <td>13</td>\n",
       "      <td>171</td>\n",
       "      <td>21791</td>\n",
       "      <td>1</td>\n",
       "      <td>1</td>\n",
       "    </tr>\n",
       "    <tr>\n",
       "      <th>2</th>\n",
       "      <td>17</td>\n",
       "      <td>39</td>\n",
       "      <td>13</td>\n",
       "      <td>166</td>\n",
       "      <td>21791</td>\n",
       "      <td>1</td>\n",
       "      <td>1</td>\n",
       "    </tr>\n",
       "    <tr>\n",
       "      <th>3</th>\n",
       "      <td>17</td>\n",
       "      <td>39</td>\n",
       "      <td>13</td>\n",
       "      <td>171</td>\n",
       "      <td>21791</td>\n",
       "      <td>1</td>\n",
       "      <td>1</td>\n",
       "    </tr>\n",
       "    <tr>\n",
       "      <th>4</th>\n",
       "      <td>22</td>\n",
       "      <td>39</td>\n",
       "      <td>13</td>\n",
       "      <td>166</td>\n",
       "      <td>21791</td>\n",
       "      <td>1</td>\n",
       "      <td>1</td>\n",
       "    </tr>\n",
       "  </tbody>\n",
       "</table>\n",
       "</div>"
      ],
      "text/plain": [
       "   Source  Destination  Protocol  Length   Info  label  cluster\n",
       "0      22           39        13     166  21791      1        1\n",
       "1      22           39        13     171  21791      1        1\n",
       "2      17           39        13     166  21791      1        1\n",
       "3      17           39        13     171  21791      1        1\n",
       "4      22           39        13     166  21791      1        1"
      ]
     },
     "execution_count": 11,
     "metadata": {},
     "output_type": "execute_result"
    }
   ],
   "source": [
    "\n"
   ]
  },
  {
   "cell_type": "code",
   "execution_count": 8,
   "metadata": {},
   "outputs": [
    {
     "name": "stdout",
     "output_type": "stream",
     "text": [
      "[1 0 2 3]\n",
      "3    42849\n",
      "1    37450\n",
      "0    12101\n",
      "2     7600\n",
      "Name: label, dtype: int64\n"
     ]
    }
   ],
   "source": [
    "# print all values of the label\n",
    "print(df['label'].unique())\n",
    "# print count of each label\n",
    "print(df['label'].value_counts())"
   ]
  },
  {
   "cell_type": "code",
   "execution_count": null,
   "metadata": {},
   "outputs": [],
   "source": []
  },
  {
   "cell_type": "code",
   "execution_count": null,
   "metadata": {},
   "outputs": [],
   "source": []
  },
  {
   "attachments": {},
   "cell_type": "markdown",
   "metadata": {},
   "source": [
    "## Création des données d'entrainement et de test"
   ]
  },
  {
   "cell_type": "code",
   "execution_count": 53,
   "metadata": {},
   "outputs": [],
   "source": [
    "import pandas as pd\n",
    "import numpy as np\n",
    "\n",
    "def format_data_time_step(data, time_step):\n",
    "    \"\"\"\n",
    "    Format time-series data into a format suitable for training a recurrent neural network.\n",
    "\n",
    "    Parameters\n",
    "    ----------\n",
    "    data : pd.DataFrame\n",
    "        DataFrame containing the time-series data. The DataFrame should contain a 'label' column\n",
    "        and one or more feature columns.\n",
    "\n",
    "    time_step : int\n",
    "        The number of time steps (i.e., rows) to include in each sample.\n",
    "\n",
    "    Returns\n",
    "    -------\n",
    "    tuple\n",
    "        A tuple containing the following six elements in the order given:\n",
    "\n",
    "        train_data : numpy.ndarray\n",
    "            An array of shape (n_samples_train, time_step, n_features) containing the training data.\n",
    "\n",
    "        train_labels : numpy.ndarray\n",
    "            An array of shape (n_samples_train,) containing the training labels.\n",
    "\n",
    "        val_data : numpy.ndarray\n",
    "            An array of shape (n_samples_val, time_step, n_features) containing the validation data.\n",
    "\n",
    "        val_labels : numpy.ndarray\n",
    "            An array of shape (n_samples_val,) containing the validation labels.\n",
    "\n",
    "        test_data : numpy.ndarray\n",
    "            An array of shape (n_samples_test, time_step, n_features) containing the test data.\n",
    "\n",
    "        test_labels : numpy.ndarray\n",
    "            An array of shape (n_samples_test,) containing the test labels.\n",
    "\n",
    "    Notes\n",
    "    -----\n",
    "    This function splits the data into training, validation, and test sets and reshapes the data into\n",
    "    samples of length `time_step`. The training set includes the first 70% of the data, the validation\n",
    "    set includes the next 15%, and the test set includes the final 15%. But this is totally arbitrary so dont realy take in account\n",
    "    \"\"\"\n",
    "\n",
    "    # Define the indices to use for creating the training, validation, and test datasets\n",
    "    train_indices = [(0, 3500), (5150, 13000), (18600, 24500), (28000, 35000), (40100, 44000), (46500, 51500), (54101, int((len(data))*0.7))]\n",
    "    val_indices = [(3501, 4300), (13001, 15500), (24501, 26500), (35001, 37500), (44000, 45250), (51501, 52750), (int((len(data))*0.7)+time_step-1, int((len(data))*0.85))]\n",
    "    test_indices = [(4301, 5150), (15501, 18600), (26501, 28000), (37501, 40100), (45251, 46500), (52750, 54100), (int((len(data))*0.85)+time_step-1, len(data))]\n",
    "\n",
    "    # Create the training, validation, and test dataframes by concatenating the parts specified in each tuple\n",
    "    train_df = pd.concat([data.iloc[start:end] for start, end in train_indices])\n",
    "    val_df = pd.concat([data.iloc[start:end] for start, end in val_indices])\n",
    "    test_df = pd.concat([data.iloc[start:end] for start, end in test_indices])\n",
    "\n",
    "    # Define a function to reshape the input data into the required format for LSTM models\n",
    "    def reshape_data(data):\n",
    "        data_list = []\n",
    "        for i in range(len(data) - time_step + 1):\n",
    "            data_list.append(data[i:i+time_step, :])\n",
    "        return np.array(data_list)\n",
    "\n",
    "    # Reshape the training data and extract the labels\n",
    "    train_data = reshape_data(train_df.drop(['label'], axis=1).to_numpy())\n",
    "    train_labels = train_df['label'].iloc[time_step-1:].to_numpy()\n",
    "\n",
    "    # Reshape the validation data and extract the labels\n",
    "    val_data = reshape_data(val_df.drop(['label'], axis=1).to_numpy())\n",
    "    val_labels = val_df['label'].iloc[time_step-1:].to_numpy()\n",
    "\n",
    "    # Reshape the test data and extract the labels\n",
    "    test_data = reshape_data(test_df.drop(['label'], axis=1).to_numpy())\n",
    "    test_labels = test_df['label'].iloc[time_step-1:].to_numpy()\n",
    "\n",
    "    return train_data, train_labels, val_data, val_labels, test_data, test_labels\n",
    "\n"
   ]
  },
  {
   "cell_type": "code",
   "execution_count": 54,
   "metadata": {},
   "outputs": [
    {
     "name": "stdout",
     "output_type": "stream",
     "text": [
      "train_data shape:  (49000, 50, 7)\n",
      "train_labels shape:  (49000,)\n",
      "val_data shape:  (25197, 50, 7)\n",
      "val_labels shape:  (25197,)\n",
      "test_data shape:  (25547, 50, 7)\n",
      "test_labels shape:  (25547,)\n"
     ]
    }
   ],
   "source": [
    "train_data, train_labels, val_data, val_labels, test_data, test_labels = format_data_time_step(df, 50)\n",
    "\n",
    "# print the shape of every data with their name\n",
    "print('train_data shape: ', train_data.shape)\n",
    "print('train_labels shape: ', train_labels.shape)\n",
    "print('val_data shape: ', val_data.shape)\n",
    "print('val_labels shape: ', val_labels.shape)\n",
    "print('test_data shape: ', test_data.shape)\n",
    "print('test_labels shape: ', test_labels.shape)\n",
    "\n",
    "\n",
    "\n"
   ]
  },
  {
   "attachments": {},
   "cell_type": "markdown",
   "metadata": {},
   "source": [
    "# LES MODELS LALALALA "
   ]
  },
  {
   "cell_type": "code",
   "execution_count": 56,
   "metadata": {},
   "outputs": [
    {
     "name": "stdout",
     "output_type": "stream",
     "text": [
      "4\n"
     ]
    }
   ],
   "source": [
    "num_labels = len(np.unique(train_labels))\n",
    "print(num_labels)\n"
   ]
  },
  {
   "cell_type": "code",
   "execution_count": 55,
   "metadata": {},
   "outputs": [],
   "source": [
    "input_shape = (train_data.shape[1], train_data.shape[2])"
   ]
  },
  {
   "cell_type": "code",
   "execution_count": 57,
   "metadata": {},
   "outputs": [
    {
     "name": "stdout",
     "output_type": "stream",
     "text": [
      "Model: \"sequential\"\n",
      "_________________________________________________________________\n",
      " Layer (type)                Output Shape              Param #   \n",
      "=================================================================\n",
      " lstm (LSTM)                 (None, 128)               69632     \n",
      "                                                                 \n",
      " dense (Dense)               (None, 4)                 516       \n",
      "                                                                 \n",
      "=================================================================\n",
      "Total params: 70,148\n",
      "Trainable params: 70,148\n",
      "Non-trainable params: 0\n",
      "_________________________________________________________________\n",
      "Model: \"sequential_1\"\n",
      "_________________________________________________________________\n",
      " Layer (type)                Output Shape              Param #   \n",
      "=================================================================\n",
      " lstm_1 (LSTM)               (None, 50, 128)           69632     \n",
      "                                                                 \n",
      " lstm_2 (LSTM)               (None, 50, 128)           131584    \n",
      "                                                                 \n",
      " lstm_3 (LSTM)               (None, 50, 128)           131584    \n",
      "                                                                 \n",
      " lstm_4 (LSTM)               (None, 64)                49408     \n",
      "                                                                 \n",
      " dense_1 (Dense)             (None, 4)                 260       \n",
      "                                                                 \n",
      "=================================================================\n",
      "Total params: 382,468\n",
      "Trainable params: 382,468\n",
      "Non-trainable params: 0\n",
      "_________________________________________________________________\n",
      "Model: \"sequential_3\"\n",
      "_________________________________________________________________\n",
      " Layer (type)                Output Shape              Param #   \n",
      "=================================================================\n",
      " conv1d_2 (Conv1D)           (None, 48, 64)            1408      \n",
      "                                                                 \n",
      " conv1d_3 (Conv1D)           (None, 46, 64)            12352     \n",
      "                                                                 \n",
      " max_pooling1d_1 (MaxPooling  (None, 23, 64)           0         \n",
      " 1D)                                                             \n",
      "                                                                 \n",
      " lstm_5 (LSTM)               (None, 64)                33024     \n",
      "                                                                 \n",
      " dense_4 (Dense)             (None, 4)                 260       \n",
      "                                                                 \n",
      "=================================================================\n",
      "Total params: 47,044\n",
      "Trainable params: 47,044\n",
      "Non-trainable params: 0\n",
      "_________________________________________________________________\n",
      "Model: \"sequential_5\"\n",
      "_________________________________________________________________\n",
      " Layer (type)                Output Shape              Param #   \n",
      "=================================================================\n",
      " bidirectional (Bidirectiona  (None, 50, 256)          139264    \n",
      " l)                                                              \n",
      "                                                                 \n",
      " bidirectional_1 (Bidirectio  (None, 50, 256)          394240    \n",
      " nal)                                                            \n",
      "                                                                 \n",
      " bidirectional_2 (Bidirectio  (None, 128)              164352    \n",
      " nal)                                                            \n",
      "                                                                 \n",
      " dense_6 (Dense)             (None, 32)                4128      \n",
      "                                                                 \n",
      " dense_7 (Dense)             (None, 4)                 132       \n",
      "                                                                 \n",
      "=================================================================\n",
      "Total params: 702,116\n",
      "Trainable params: 702,116\n",
      "Non-trainable params: 0\n",
      "_________________________________________________________________\n",
      "Model: \"sequential_6\"\n",
      "_________________________________________________________________\n",
      " Layer (type)                Output Shape              Param #   \n",
      "=================================================================\n",
      " simple_rnn (SimpleRNN)      (None, 50, 128)           17408     \n",
      "                                                                 \n",
      " simple_rnn_1 (SimpleRNN)    (None, 50, 128)           32896     \n",
      "                                                                 \n",
      " simple_rnn_2 (SimpleRNN)    (None, 50, 64)            12352     \n",
      "                                                                 \n",
      " lstm_12 (LSTM)              (None, 64)                33024     \n",
      "                                                                 \n",
      " dense_8 (Dense)             (None, 32)                2080      \n",
      "                                                                 \n",
      " dense_9 (Dense)             (None, 4)                 132       \n",
      "                                                                 \n",
      "=================================================================\n",
      "Total params: 97,892\n",
      "Trainable params: 97,892\n",
      "Non-trainable params: 0\n",
      "_________________________________________________________________\n",
      "Model: \"sequential_7\"\n",
      "_________________________________________________________________\n",
      " Layer (type)                Output Shape              Param #   \n",
      "=================================================================\n",
      " conv2d (Conv2D)             (None, 48, 5, 32)         320       \n",
      "                                                                 \n",
      " conv2d_1 (Conv2D)           (None, 46, 3, 64)         18496     \n",
      "                                                                 \n",
      " max_pooling2d (MaxPooling2D  (None, 23, 1, 64)        0         \n",
      " )                                                               \n",
      "                                                                 \n",
      " dropout (Dropout)           (None, 23, 1, 64)         0         \n",
      "                                                                 \n",
      " time_distributed (TimeDistr  (None, 23, 64)           0         \n",
      " ibuted)                                                         \n",
      "                                                                 \n",
      " lstm_13 (LSTM)              (None, 23, 128)           98816     \n",
      "                                                                 \n",
      " lstm_14 (LSTM)              (None, 64)                49408     \n",
      "                                                                 \n",
      " dense_10 (Dense)            (None, 32)                2080      \n",
      "                                                                 \n",
      " dense_11 (Dense)            (None, 4)                 132       \n",
      "                                                                 \n",
      "=================================================================\n",
      "Total params: 169,252\n",
      "Trainable params: 169,252\n",
      "Non-trainable params: 0\n",
      "_________________________________________________________________\n"
     ]
    }
   ],
   "source": [
    "# create the model\n",
    "simple_lstm_model = keras.Sequential([\n",
    "    keras.layers.LSTM(128, input_shape=input_shape),\n",
    "    keras.layers.Dense(num_labels, activation='softmax')\n",
    "])\n",
    "\n",
    "simple_lstm_model.compile(optimizer='adam',\n",
    "                loss='sparse_categorical_crossentropy',\n",
    "                metrics=['accuracy'])\n",
    "\n",
    "simple_lstm_model.summary()\n",
    "\n",
    "# model with 4 LSTM layers\n",
    "model_stacked_lstm = keras.Sequential([\n",
    "    keras.layers.LSTM(128, return_sequences=True, input_shape=input_shape),\n",
    "    keras.layers.LSTM(128, return_sequences=True),\n",
    "    keras.layers.LSTM(128, return_sequences=True),\n",
    "    keras.layers.LSTM(64),\n",
    "    keras.layers.Dense(num_labels, activation='softmax')\n",
    "])\n",
    "\n",
    "model_stacked_lstm.compile(optimizer='adam',\n",
    "                loss='sparse_categorical_crossentropy',\n",
    "                metrics=['accuracy'])\n",
    "\n",
    "model_stacked_lstm.summary()\n",
    "\n",
    "\n",
    "# cnn model FOR NETWORK TRAFFIC\n",
    "model_cnn = keras.Sequential([\n",
    "    keras.layers.Conv1D(filters=64, kernel_size=3, activation='relu', input_shape=input_shape),\n",
    "    keras.layers.Conv1D(filters=64, kernel_size=3, activation='relu'),\n",
    "    keras.layers.MaxPooling1D(pool_size=2),\n",
    "    keras.layers.Flatten(),\n",
    "    keras.layers.Dense(100, activation='relu'),\n",
    "    keras.layers.Dense(num_labels, activation='softmax')\n",
    "])\n",
    "\n",
    "model_cnn.compile(optimizer='adam',\n",
    "                loss='sparse_categorical_crossentropy',\n",
    "                metrics=['accuracy'])\n",
    "\n",
    "\n",
    "# model CNN + LSTM\n",
    "model_cnn_lstm = keras.Sequential([\n",
    "    keras.layers.Conv1D(filters=64, kernel_size=3, activation='relu', input_shape=input_shape),\n",
    "    keras.layers.Conv1D(filters=64, kernel_size=3, activation='relu'),\n",
    "    keras.layers.MaxPooling1D(pool_size=2),\n",
    "    keras.layers.LSTM(64),\n",
    "    keras.layers.Dense(num_labels, activation='softmax')\n",
    "])\n",
    "\n",
    "model_cnn_lstm.compile(optimizer='adam',\n",
    "                loss='sparse_categorical_crossentropy',\n",
    "                metrics=['accuracy'])\n",
    "\n",
    "model_cnn_lstm.summary()\n",
    "\n",
    "# model CNN + LSTM + LSTM\n",
    "model_cnn_lstm_stacked = keras.Sequential([\n",
    "    keras.layers.Conv1D(filters=64, kernel_size=3, activation='relu', input_shape=input_shape),\n",
    "    keras.layers.Conv1D(filters=64, kernel_size=3, activation='relu'),\n",
    "    keras.layers.MaxPooling1D(pool_size=2),\n",
    "    keras.layers.LSTM(128, return_sequences=True),\n",
    "    keras.layers.LSTM(64,return_sequences=True),\n",
    "    keras.layers.LSTM(64),\n",
    "    keras.layers.Dense(num_labels, activation='softmax')\n",
    "])\n",
    "\n",
    "\n",
    "model_cnn_lstm_stacked.compile(optimizer='adam',\n",
    "                loss='sparse_categorical_crossentropy',\n",
    "                metrics=['accuracy'])\n",
    "\n",
    "\n",
    "model_bidirectional_LSTM = keras.Sequential()\n",
    "model_bidirectional_LSTM.add(keras.layers.Bidirectional(keras.layers.LSTM(128, return_sequences=True), input_shape=input_shape))\n",
    "model_bidirectional_LSTM.add(keras.layers.Bidirectional(keras.layers.LSTM(128, return_sequences=True)))\n",
    "model_bidirectional_LSTM.add(keras.layers.Bidirectional(keras.layers.LSTM(64)))\n",
    "model_bidirectional_LSTM.add(keras.layers.Dense(32, activation='relu'))\n",
    "model_bidirectional_LSTM.add(keras.layers.Dense(num_labels, activation='softmax'))\n",
    "model_bidirectional_LSTM.compile(loss='sparse_categorical_crossentropy', optimizer='adam', metrics=['accuracy'])\n",
    "model_bidirectional_LSTM.summary()\n",
    "\n",
    "\n",
    "model_rnn_lstm = keras.Sequential()\n",
    "model_rnn_lstm.add(keras.layers.SimpleRNN(128, input_shape=input_shape, return_sequences=True))\n",
    "model_rnn_lstm.add(keras.layers.SimpleRNN(128, return_sequences=True))\n",
    "model_rnn_lstm.add(keras.layers.SimpleRNN(64, return_sequences=True))\n",
    "model_rnn_lstm.add(keras.layers.LSTM(64))\n",
    "model_rnn_lstm.add(keras.layers.Dense(32, activation='relu'))\n",
    "model_rnn_lstm.add(keras.layers.Dense(num_labels, activation='softmax'))\n",
    "model_rnn_lstm.compile(loss='sparse_categorical_crossentropy', optimizer='adam', metrics=['accuracy'])\n",
    "model_rnn_lstm.summary()\n",
    "\n",
    "\n",
    "\n",
    "\n",
    "\n",
    "model_test = keras.Sequential()\n",
    "# conv 2D layer \n",
    "model_test.add(keras.layers.Conv2D(32, kernel_size=(3, 3), activation='relu', input_shape=(train_data.shape[1], train_data.shape[2], 1)))\n",
    "model_test.add(keras.layers.Conv2D(64, (3, 3), activation='relu'))\n",
    "model_test.add(keras.layers.MaxPooling2D(pool_size=(2, 2)))\n",
    "model_test.add(keras.layers.Dropout(0.25))\n",
    "# time distributed layer for output of conv2D\n",
    "model_test.add(keras.layers.TimeDistributed(keras.layers.Flatten()))\n",
    "# LSTM layer\n",
    "model_test.add(keras.layers.LSTM(128, return_sequences=True))\n",
    "model_test.add(keras.layers.LSTM(64))\n",
    "model_test.add(keras.layers.Dense(32, activation='relu'))\n",
    "model_test.add(keras.layers.Dense(num_labels, activation='softmax'))\n",
    "model_test.compile(loss='sparse_categorical_crossentropy', optimizer='adam', metrics=['accuracy'])\n",
    "model_test.summary()\n",
    "\n",
    "\n",
    "\n",
    "\n",
    "\n"
   ]
  },
  {
   "cell_type": "code",
   "execution_count": 58,
   "metadata": {},
   "outputs": [
    {
     "name": "stdout",
     "output_type": "stream",
     "text": [
      "Epoch 1/100\n"
     ]
    },
    {
     "ename": "UnimplementedError",
     "evalue": "Graph execution error:\n\nDetected at node 'Cast_1' defined at (most recent call last):\n    File \"c:\\Users\\enzoh\\AppData\\Local\\Programs\\Python\\Python310\\lib\\runpy.py\", line 196, in _run_module_as_main\n      return _run_code(code, main_globals, None,\n    File \"c:\\Users\\enzoh\\AppData\\Local\\Programs\\Python\\Python310\\lib\\runpy.py\", line 86, in _run_code\n      exec(code, run_globals)\n    File \"C:\\Users\\enzoh\\AppData\\Roaming\\Python\\Python310\\site-packages\\ipykernel_launcher.py\", line 17, in <module>\n      app.launch_new_instance()\n    File \"C:\\Users\\enzoh\\AppData\\Roaming\\Python\\Python310\\site-packages\\traitlets\\config\\application.py\", line 1041, in launch_instance\n      app.start()\n    File \"C:\\Users\\enzoh\\AppData\\Roaming\\Python\\Python310\\site-packages\\ipykernel\\kernelapp.py\", line 724, in start\n      self.io_loop.start()\n    File \"C:\\Users\\enzoh\\AppData\\Roaming\\Python\\Python310\\site-packages\\tornado\\platform\\asyncio.py\", line 215, in start\n      self.asyncio_loop.run_forever()\n    File \"c:\\Users\\enzoh\\AppData\\Local\\Programs\\Python\\Python310\\lib\\asyncio\\base_events.py\", line 603, in run_forever\n      self._run_once()\n    File \"c:\\Users\\enzoh\\AppData\\Local\\Programs\\Python\\Python310\\lib\\asyncio\\base_events.py\", line 1906, in _run_once\n      handle._run()\n    File \"c:\\Users\\enzoh\\AppData\\Local\\Programs\\Python\\Python310\\lib\\asyncio\\events.py\", line 80, in _run\n      self._context.run(self._callback, *self._args)\n    File \"C:\\Users\\enzoh\\AppData\\Roaming\\Python\\Python310\\site-packages\\ipykernel\\kernelbase.py\", line 512, in dispatch_queue\n      await self.process_one()\n    File \"C:\\Users\\enzoh\\AppData\\Roaming\\Python\\Python310\\site-packages\\ipykernel\\kernelbase.py\", line 501, in process_one\n      await dispatch(*args)\n    File \"C:\\Users\\enzoh\\AppData\\Roaming\\Python\\Python310\\site-packages\\ipykernel\\kernelbase.py\", line 408, in dispatch_shell\n      await result\n    File \"C:\\Users\\enzoh\\AppData\\Roaming\\Python\\Python310\\site-packages\\ipykernel\\kernelbase.py\", line 731, in execute_request\n      reply_content = await reply_content\n    File \"C:\\Users\\enzoh\\AppData\\Roaming\\Python\\Python310\\site-packages\\ipykernel\\ipkernel.py\", line 417, in do_execute\n      res = shell.run_cell(\n    File \"C:\\Users\\enzoh\\AppData\\Roaming\\Python\\Python310\\site-packages\\ipykernel\\zmqshell.py\", line 540, in run_cell\n      return super().run_cell(*args, **kwargs)\n    File \"C:\\Users\\enzoh\\AppData\\Roaming\\Python\\Python310\\site-packages\\IPython\\core\\interactiveshell.py\", line 2945, in run_cell\n      result = self._run_cell(\n    File \"C:\\Users\\enzoh\\AppData\\Roaming\\Python\\Python310\\site-packages\\IPython\\core\\interactiveshell.py\", line 3000, in _run_cell\n      return runner(coro)\n    File \"C:\\Users\\enzoh\\AppData\\Roaming\\Python\\Python310\\site-packages\\IPython\\core\\async_helpers.py\", line 129, in _pseudo_sync_runner\n      coro.send(None)\n    File \"C:\\Users\\enzoh\\AppData\\Roaming\\Python\\Python310\\site-packages\\IPython\\core\\interactiveshell.py\", line 3203, in run_cell_async\n      has_raised = await self.run_ast_nodes(code_ast.body, cell_name,\n    File \"C:\\Users\\enzoh\\AppData\\Roaming\\Python\\Python310\\site-packages\\IPython\\core\\interactiveshell.py\", line 3382, in run_ast_nodes\n      if await self.run_code(code, result, async_=asy):\n    File \"C:\\Users\\enzoh\\AppData\\Roaming\\Python\\Python310\\site-packages\\IPython\\core\\interactiveshell.py\", line 3442, in run_code\n      exec(code_obj, self.user_global_ns, self.user_ns)\n    File \"C:\\Users\\enzoh\\AppData\\Local\\Temp\\ipykernel_21588\\1988599080.py\", line 8, in <module>\n      history_model_test = model_test.fit(train_data, train_labels, epochs=100,batch_size=256 ,validation_data=(val_data, val_labels))\n    File \"c:\\Users\\enzoh\\AppData\\Local\\Programs\\Python\\Python310\\lib\\site-packages\\keras\\utils\\traceback_utils.py\", line 65, in error_handler\n      return fn(*args, **kwargs)\n    File \"c:\\Users\\enzoh\\AppData\\Local\\Programs\\Python\\Python310\\lib\\site-packages\\keras\\engine\\training.py\", line 1564, in fit\n      tmp_logs = self.train_function(iterator)\n    File \"c:\\Users\\enzoh\\AppData\\Local\\Programs\\Python\\Python310\\lib\\site-packages\\keras\\engine\\training.py\", line 1160, in train_function\n      return step_function(self, iterator)\n    File \"c:\\Users\\enzoh\\AppData\\Local\\Programs\\Python\\Python310\\lib\\site-packages\\keras\\engine\\training.py\", line 1146, in step_function\n      outputs = model.distribute_strategy.run(run_step, args=(data,))\n    File \"c:\\Users\\enzoh\\AppData\\Local\\Programs\\Python\\Python310\\lib\\site-packages\\keras\\engine\\training.py\", line 1135, in run_step\n      outputs = model.train_step(data)\n    File \"c:\\Users\\enzoh\\AppData\\Local\\Programs\\Python\\Python310\\lib\\site-packages\\keras\\engine\\training.py\", line 998, in train_step\n      return self.compute_metrics(x, y, y_pred, sample_weight)\n    File \"c:\\Users\\enzoh\\AppData\\Local\\Programs\\Python\\Python310\\lib\\site-packages\\keras\\engine\\training.py\", line 1092, in compute_metrics\n      self.compiled_metrics.update_state(y, y_pred, sample_weight)\n    File \"c:\\Users\\enzoh\\AppData\\Local\\Programs\\Python\\Python310\\lib\\site-packages\\keras\\engine\\compile_utils.py\", line 605, in update_state\n      metric_obj.update_state(y_t, y_p, sample_weight=mask)\n    File \"c:\\Users\\enzoh\\AppData\\Local\\Programs\\Python\\Python310\\lib\\site-packages\\keras\\utils\\metrics_utils.py\", line 77, in decorated\n      update_op = update_state_fn(*args, **kwargs)\n    File \"c:\\Users\\enzoh\\AppData\\Local\\Programs\\Python\\Python310\\lib\\site-packages\\keras\\metrics\\base_metric.py\", line 143, in update_state_fn\n      return ag_update_state(*args, **kwargs)\n    File \"c:\\Users\\enzoh\\AppData\\Local\\Programs\\Python\\Python310\\lib\\site-packages\\keras\\metrics\\base_metric.py\", line 685, in update_state\n      y_true = tf.cast(y_true, self._dtype)\nNode: 'Cast_1'\nCast string to float is not supported\n\t [[{{node Cast_1}}]] [Op:__inference_train_function_14507]",
     "output_type": "error",
     "traceback": [
      "\u001b[1;31m---------------------------------------------------------------------------\u001b[0m",
      "\u001b[1;31mUnimplementedError\u001b[0m                        Traceback (most recent call last)",
      "Cell \u001b[1;32mIn[58], line 8\u001b[0m\n\u001b[0;32m      1\u001b[0m \u001b[39m# history_simple_lstm = simple_lstm_model.fit(train_data, train_labels, epochs=50,batch_size=128 ,validation_data=(val_data, val_labels))\u001b[39;00m\n\u001b[0;32m      2\u001b[0m \u001b[39m# history_stacked_lstm = model_stacked_lstm.fit(train_data, train_labels, epochs=25,batch_size=128 ,validation_data=(val_data, val_labels))\u001b[39;00m\n\u001b[0;32m      3\u001b[0m \u001b[39m# history_cnn = model_cnn.fit(train_data, train_labels, epochs=150,batch_size=128 ,validation_data=(val_data, val_labels))\u001b[39;00m\n\u001b[1;32m   (...)\u001b[0m\n\u001b[0;32m      6\u001b[0m \u001b[39m# history_bidirectional_LSTM = model_bidirectional_LSTM.fit(train_data, train_labels, epochs=25,batch_size=128 ,validation_data=(val_data, val_labels))\u001b[39;00m\n\u001b[0;32m      7\u001b[0m \u001b[39m# history_rnn_lstm = model_rnn_lstm.fit(train_data, train_labels, epochs=15,batch_size=128 ,validation_data=(val_data, val_labels))\u001b[39;00m\n\u001b[1;32m----> 8\u001b[0m history_model_test \u001b[39m=\u001b[39m model_test\u001b[39m.\u001b[39;49mfit(train_data, train_labels, epochs\u001b[39m=\u001b[39;49m\u001b[39m100\u001b[39;49m,batch_size\u001b[39m=\u001b[39;49m\u001b[39m256\u001b[39;49m ,validation_data\u001b[39m=\u001b[39;49m(val_data, val_labels))\n",
      "File \u001b[1;32mc:\\Users\\enzoh\\AppData\\Local\\Programs\\Python\\Python310\\lib\\site-packages\\keras\\utils\\traceback_utils.py:70\u001b[0m, in \u001b[0;36mfilter_traceback.<locals>.error_handler\u001b[1;34m(*args, **kwargs)\u001b[0m\n\u001b[0;32m     67\u001b[0m     filtered_tb \u001b[39m=\u001b[39m _process_traceback_frames(e\u001b[39m.\u001b[39m__traceback__)\n\u001b[0;32m     68\u001b[0m     \u001b[39m# To get the full stack trace, call:\u001b[39;00m\n\u001b[0;32m     69\u001b[0m     \u001b[39m# `tf.debugging.disable_traceback_filtering()`\u001b[39;00m\n\u001b[1;32m---> 70\u001b[0m     \u001b[39mraise\u001b[39;00m e\u001b[39m.\u001b[39mwith_traceback(filtered_tb) \u001b[39mfrom\u001b[39;00m \u001b[39mNone\u001b[39m\n\u001b[0;32m     71\u001b[0m \u001b[39mfinally\u001b[39;00m:\n\u001b[0;32m     72\u001b[0m     \u001b[39mdel\u001b[39;00m filtered_tb\n",
      "File \u001b[1;32mc:\\Users\\enzoh\\AppData\\Local\\Programs\\Python\\Python310\\lib\\site-packages\\tensorflow\\python\\eager\\execute.py:54\u001b[0m, in \u001b[0;36mquick_execute\u001b[1;34m(op_name, num_outputs, inputs, attrs, ctx, name)\u001b[0m\n\u001b[0;32m     52\u001b[0m \u001b[39mtry\u001b[39;00m:\n\u001b[0;32m     53\u001b[0m   ctx\u001b[39m.\u001b[39mensure_initialized()\n\u001b[1;32m---> 54\u001b[0m   tensors \u001b[39m=\u001b[39m pywrap_tfe\u001b[39m.\u001b[39mTFE_Py_Execute(ctx\u001b[39m.\u001b[39m_handle, device_name, op_name,\n\u001b[0;32m     55\u001b[0m                                       inputs, attrs, num_outputs)\n\u001b[0;32m     56\u001b[0m \u001b[39mexcept\u001b[39;00m core\u001b[39m.\u001b[39m_NotOkStatusException \u001b[39mas\u001b[39;00m e:\n\u001b[0;32m     57\u001b[0m   \u001b[39mif\u001b[39;00m name \u001b[39mis\u001b[39;00m \u001b[39mnot\u001b[39;00m \u001b[39mNone\u001b[39;00m:\n",
      "\u001b[1;31mUnimplementedError\u001b[0m: Graph execution error:\n\nDetected at node 'Cast_1' defined at (most recent call last):\n    File \"c:\\Users\\enzoh\\AppData\\Local\\Programs\\Python\\Python310\\lib\\runpy.py\", line 196, in _run_module_as_main\n      return _run_code(code, main_globals, None,\n    File \"c:\\Users\\enzoh\\AppData\\Local\\Programs\\Python\\Python310\\lib\\runpy.py\", line 86, in _run_code\n      exec(code, run_globals)\n    File \"C:\\Users\\enzoh\\AppData\\Roaming\\Python\\Python310\\site-packages\\ipykernel_launcher.py\", line 17, in <module>\n      app.launch_new_instance()\n    File \"C:\\Users\\enzoh\\AppData\\Roaming\\Python\\Python310\\site-packages\\traitlets\\config\\application.py\", line 1041, in launch_instance\n      app.start()\n    File \"C:\\Users\\enzoh\\AppData\\Roaming\\Python\\Python310\\site-packages\\ipykernel\\kernelapp.py\", line 724, in start\n      self.io_loop.start()\n    File \"C:\\Users\\enzoh\\AppData\\Roaming\\Python\\Python310\\site-packages\\tornado\\platform\\asyncio.py\", line 215, in start\n      self.asyncio_loop.run_forever()\n    File \"c:\\Users\\enzoh\\AppData\\Local\\Programs\\Python\\Python310\\lib\\asyncio\\base_events.py\", line 603, in run_forever\n      self._run_once()\n    File \"c:\\Users\\enzoh\\AppData\\Local\\Programs\\Python\\Python310\\lib\\asyncio\\base_events.py\", line 1906, in _run_once\n      handle._run()\n    File \"c:\\Users\\enzoh\\AppData\\Local\\Programs\\Python\\Python310\\lib\\asyncio\\events.py\", line 80, in _run\n      self._context.run(self._callback, *self._args)\n    File \"C:\\Users\\enzoh\\AppData\\Roaming\\Python\\Python310\\site-packages\\ipykernel\\kernelbase.py\", line 512, in dispatch_queue\n      await self.process_one()\n    File \"C:\\Users\\enzoh\\AppData\\Roaming\\Python\\Python310\\site-packages\\ipykernel\\kernelbase.py\", line 501, in process_one\n      await dispatch(*args)\n    File \"C:\\Users\\enzoh\\AppData\\Roaming\\Python\\Python310\\site-packages\\ipykernel\\kernelbase.py\", line 408, in dispatch_shell\n      await result\n    File \"C:\\Users\\enzoh\\AppData\\Roaming\\Python\\Python310\\site-packages\\ipykernel\\kernelbase.py\", line 731, in execute_request\n      reply_content = await reply_content\n    File \"C:\\Users\\enzoh\\AppData\\Roaming\\Python\\Python310\\site-packages\\ipykernel\\ipkernel.py\", line 417, in do_execute\n      res = shell.run_cell(\n    File \"C:\\Users\\enzoh\\AppData\\Roaming\\Python\\Python310\\site-packages\\ipykernel\\zmqshell.py\", line 540, in run_cell\n      return super().run_cell(*args, **kwargs)\n    File \"C:\\Users\\enzoh\\AppData\\Roaming\\Python\\Python310\\site-packages\\IPython\\core\\interactiveshell.py\", line 2945, in run_cell\n      result = self._run_cell(\n    File \"C:\\Users\\enzoh\\AppData\\Roaming\\Python\\Python310\\site-packages\\IPython\\core\\interactiveshell.py\", line 3000, in _run_cell\n      return runner(coro)\n    File \"C:\\Users\\enzoh\\AppData\\Roaming\\Python\\Python310\\site-packages\\IPython\\core\\async_helpers.py\", line 129, in _pseudo_sync_runner\n      coro.send(None)\n    File \"C:\\Users\\enzoh\\AppData\\Roaming\\Python\\Python310\\site-packages\\IPython\\core\\interactiveshell.py\", line 3203, in run_cell_async\n      has_raised = await self.run_ast_nodes(code_ast.body, cell_name,\n    File \"C:\\Users\\enzoh\\AppData\\Roaming\\Python\\Python310\\site-packages\\IPython\\core\\interactiveshell.py\", line 3382, in run_ast_nodes\n      if await self.run_code(code, result, async_=asy):\n    File \"C:\\Users\\enzoh\\AppData\\Roaming\\Python\\Python310\\site-packages\\IPython\\core\\interactiveshell.py\", line 3442, in run_code\n      exec(code_obj, self.user_global_ns, self.user_ns)\n    File \"C:\\Users\\enzoh\\AppData\\Local\\Temp\\ipykernel_21588\\1988599080.py\", line 8, in <module>\n      history_model_test = model_test.fit(train_data, train_labels, epochs=100,batch_size=256 ,validation_data=(val_data, val_labels))\n    File \"c:\\Users\\enzoh\\AppData\\Local\\Programs\\Python\\Python310\\lib\\site-packages\\keras\\utils\\traceback_utils.py\", line 65, in error_handler\n      return fn(*args, **kwargs)\n    File \"c:\\Users\\enzoh\\AppData\\Local\\Programs\\Python\\Python310\\lib\\site-packages\\keras\\engine\\training.py\", line 1564, in fit\n      tmp_logs = self.train_function(iterator)\n    File \"c:\\Users\\enzoh\\AppData\\Local\\Programs\\Python\\Python310\\lib\\site-packages\\keras\\engine\\training.py\", line 1160, in train_function\n      return step_function(self, iterator)\n    File \"c:\\Users\\enzoh\\AppData\\Local\\Programs\\Python\\Python310\\lib\\site-packages\\keras\\engine\\training.py\", line 1146, in step_function\n      outputs = model.distribute_strategy.run(run_step, args=(data,))\n    File \"c:\\Users\\enzoh\\AppData\\Local\\Programs\\Python\\Python310\\lib\\site-packages\\keras\\engine\\training.py\", line 1135, in run_step\n      outputs = model.train_step(data)\n    File \"c:\\Users\\enzoh\\AppData\\Local\\Programs\\Python\\Python310\\lib\\site-packages\\keras\\engine\\training.py\", line 998, in train_step\n      return self.compute_metrics(x, y, y_pred, sample_weight)\n    File \"c:\\Users\\enzoh\\AppData\\Local\\Programs\\Python\\Python310\\lib\\site-packages\\keras\\engine\\training.py\", line 1092, in compute_metrics\n      self.compiled_metrics.update_state(y, y_pred, sample_weight)\n    File \"c:\\Users\\enzoh\\AppData\\Local\\Programs\\Python\\Python310\\lib\\site-packages\\keras\\engine\\compile_utils.py\", line 605, in update_state\n      metric_obj.update_state(y_t, y_p, sample_weight=mask)\n    File \"c:\\Users\\enzoh\\AppData\\Local\\Programs\\Python\\Python310\\lib\\site-packages\\keras\\utils\\metrics_utils.py\", line 77, in decorated\n      update_op = update_state_fn(*args, **kwargs)\n    File \"c:\\Users\\enzoh\\AppData\\Local\\Programs\\Python\\Python310\\lib\\site-packages\\keras\\metrics\\base_metric.py\", line 143, in update_state_fn\n      return ag_update_state(*args, **kwargs)\n    File \"c:\\Users\\enzoh\\AppData\\Local\\Programs\\Python\\Python310\\lib\\site-packages\\keras\\metrics\\base_metric.py\", line 685, in update_state\n      y_true = tf.cast(y_true, self._dtype)\nNode: 'Cast_1'\nCast string to float is not supported\n\t [[{{node Cast_1}}]] [Op:__inference_train_function_14507]"
     ]
    }
   ],
   "source": [
    "# history_simple_lstm = simple_lstm_model.fit(train_data, train_labels, epochs=50,batch_size=128 ,validation_data=(val_data, val_labels))\n",
    "# history_stacked_lstm = model_stacked_lstm.fit(train_data, train_labels, epochs=25,batch_size=128 ,validation_data=(val_data, val_labels))\n",
    "# history_cnn = model_cnn.fit(train_data, train_labels, epochs=150,batch_size=128 ,validation_data=(val_data, val_labels))\n",
    "# history_cnn_lstm = model_cnn_lstm.fit(train_data, train_labels, epochs=15,batch_size=128 ,validation_data=(val_data, val_labels))\n",
    "# history_cnn_lstm_stacked = model_cnn_lstm_stacked.fit(train_data, train_labels, epochs=15,batch_size=128 ,validation_data=(val_data, val_labels))\n",
    "# history_bidirectional_LSTM = model_bidirectional_LSTM.fit(train_data, train_labels, epochs=25,batch_size=128 ,validation_data=(val_data, val_labels))\n",
    "# history_rnn_lstm = model_rnn_lstm.fit(train_data, train_labels, epochs=15,batch_size=128 ,validation_data=(val_data, val_labels))\n",
    "history_model_test = model_test.fit(train_data, train_labels, epochs=100,batch_size=256 ,validation_data=(val_data, val_labels))\n",
    "\n"
   ]
  },
  {
   "cell_type": "code",
   "execution_count": 65,
   "metadata": {},
   "outputs": [],
   "source": [
    "# save model\n",
    "model_test.save('CNN2D_LSTM.h5')"
   ]
  },
  {
   "cell_type": "code",
   "execution_count": 15,
   "metadata": {},
   "outputs": [],
   "source": [
    "def plot_model_loss_accuracy(history,model_name):\n",
    "  \"\"\" Plot the model loss and accuracy for training and validation data\n",
    "\n",
    "  Args:\n",
    "      history (keras.callbacks.History): History object returned by model.fit()\n",
    "      model_name (str): Name of the model\n",
    "  \"\"\"\n",
    "  plt.plot(history.history['accuracy'],label=\"Training Accuracy\")\n",
    "  plt.plot(history.history['val_accuracy'],label=\"Validation Accuracy\")\n",
    "\n",
    "  plt.plot(history.history['loss'],label=\"Training Loss\")\n",
    "  plt.plot(history.history['val_loss'],label=\"Validation Loss\")\n",
    "  # plot the max validation accuracy\n",
    "  max_val_acc = max(history.history['val_accuracy'])\n",
    "  max_val_acc_epoch = history.history['val_accuracy'].index(max_val_acc)\n",
    "  plt.plot(max_val_acc_epoch, max_val_acc, marker='o', markersize=5, color=\"red\")\n",
    "  plt.annotate(\"Max Validation Accuracy: {:.2f}%\".format(max_val_acc*100), (max_val_acc_epoch, max_val_acc), xytext=(max_val_acc_epoch, max_val_acc+0.05), arrowprops=dict(facecolor='black', shrink=0.05))\n",
    "  plt.title('Training and Validation Accuracy/Loss for ' + model_name)\n",
    "  plt.xlabel('Epoch')\n",
    "  plt.ylabel('Accuracy/Loss')\n",
    "  plt.legend()\n",
    "  plt.show()"
   ]
  },
  {
   "cell_type": "code",
   "execution_count": 66,
   "metadata": {},
   "outputs": [
    {
     "data": {
      "image/png": "[encoded data removed]",
      "text/plain": [
       "<Figure size 640x480 with 1 Axes>"
      ]
     },
     "metadata": {},
     "output_type": "display_data"
    }
   ],
   "source": [
    "plot_model_loss_accuracy(history_model_test, \"CNN2D_LSTM\")"
   ]
  },
  {
   "cell_type": "code",
   "execution_count": 67,
   "metadata": {},
   "outputs": [
    {
     "name": "stdout",
     "output_type": "stream",
     "text": [
      "Test loss: 1.2603964805603027\n",
      "Test accuracy: 0.7571926116943359\n"
     ]
    }
   ],
   "source": [
    "# evaluate the model on test data\n",
    "score = model_test.evaluate(test_data, test_labels, verbose=0)\n",
    "print(\"Test loss:\", score[0])\n",
    "print(\"Test accuracy:\", score[1])\n"
   ]
  },
  {
   "cell_type": "code",
   "execution_count": 64,
   "metadata": {},
   "outputs": [
    {
     "name": "stdout",
     "output_type": "stream",
     "text": [
      "799/799 [==============================] - 3s 4ms/step\n"
     ]
    },
    {
     "data": {
      "text/plain": [
       "Text(0.5, 1.0, 'Confusion Matrix 2D CNN and LSTM')"
      ]
     },
     "execution_count": 64,
     "metadata": {},
     "output_type": "execute_result"
    },
    {
     "data": {
      "image/png": "[encoded data removed]",
      "text/plain": [
       "<Figure size 1000x1000 with 2 Axes>"
      ]
     },
     "metadata": {},
     "output_type": "display_data"
    }
   ],
   "source": [
    "# confusion matrix on test data with original labels with label_encoder\n",
    "import itertools\n",
    "from sklearn.metrics import confusion_matrix\n",
    "\n",
    "\n",
    "y_pred = model_test.predict(test_data)\n",
    "y_pred = np.argmax(y_pred, axis=1)\n",
    "from sklearn.metrics import confusion_matrix\n",
    "import seaborn as sns\n",
    "\n",
    "# Generate confusion matrix\n",
    "cm = confusion_matrix(test_labels, y_pred)\n",
    "\n",
    "# Create a DataFrame from the confusion matrix using the label names\n",
    "cm_df = pd.DataFrame(cm, columns=label_encoder.classes_, index=label_encoder.classes_)\n",
    "\n",
    "# Plot the confusion matrix using seaborn\n",
    "plt.figure(figsize=(10, 10))\n",
    "sns.heatmap(cm_df, annot=True,fmt='g')\n",
    "plt.xlabel('Predicted label')\n",
    "plt.ylabel('True label')\n",
    "plt.title('Confusion Matrix 2D CNN and LSTM') \n",
    "\n"
   ]
  },
  {
   "cell_type": "code",
   "execution_count": null,
   "metadata": {},
   "outputs": [],
   "source": [
    "\n",
    "\n",
    "\n",
    "\n"
   ]
  }
 ],
 "metadata": {
  "kernelspec": {
   "display_name": "Python 3",
   "language": "python",
   "name": "python3"
  },
  "language_info": {
   "codemirror_mode": {
    "name": "ipython",
    "version": 3
   },
   "file_extension": ".py",
   "mimetype": "text/x-python",
   "name": "python",
   "nbconvert_exporter": "python",
   "pygments_lexer": "ipython3",
   "version": "3.10.9"
  },
  "orig_nbformat": 4
 },
 "nbformat": 4,
 "nbformat_minor": 2
}
