{
 "cells": [
  {
   "cell_type": "code",
   "execution_count": 30,
   "metadata": {},
   "outputs": [],
   "source": [
    "import numpy as np\n",
    "import pandas as pd\n",
    "import matplotlib.pyplot as plt\n",
    "import seaborn as sns\n",
    "import tensorflow as tf\n",
    "from tensorflow.keras.models import Sequential\n",
    "from tensorflow.keras.layers import Dense, Dropout, LSTM\n",
    "from sklearn.preprocessing import LabelEncoder\n"
   ]
  },
  {
   "cell_type": "code",
   "execution_count": 63,
   "metadata": {},
   "outputs": [
    {
     "name": "stdout",
     "output_type": "stream",
     "text": [
      "(2160668, 27)\n",
      "<class 'pandas.core.frame.DataFrame'>\n",
      "Float64Index: 2160668 entries, 3.0 to 15.0\n",
      "Data columns (total 27 columns):\n",
      " #   Column            Dtype  \n",
      "---  ------            -----  \n",
      " 0   DES_ADD           float64\n",
      " 1   PKT_ID            int64  \n",
      " 2   FROM_NODE         int64  \n",
      " 3   TO_NODE           int64  \n",
      " 4   PKT_TYPE          object \n",
      " 5   PKT_SIZE          int64  \n",
      " 6   FLAGS             object \n",
      " 7   FID               int64  \n",
      " 8   SEQ_NUMBER        int64  \n",
      " 9   NUMBER_OF_PKT     int64  \n",
      " 10  NUMBER_OF_BYTE    int64  \n",
      " 11  NODE_NAME_FROM    object \n",
      " 12  NODE_NAME_TO      object \n",
      " 13  PKT_IN            float64\n",
      " 14  PKT_OUT           float64\n",
      " 15  PKT_R             float64\n",
      " 16  PKT_DELAY_NODE    float64\n",
      " 17  PKT_RATE          float64\n",
      " 18  BYTE_RATE         float64\n",
      " 19  PKT_AVG_SIZE      float64\n",
      " 20  UTILIZATION       float64\n",
      " 21  PKT_DELAY         float64\n",
      " 22  PKT_SEND_TIME     float64\n",
      " 23  PKT_RESEVED_TIME  float64\n",
      " 24  FIRST_PKT_SENT    float64\n",
      " 25  LAST_PKT_RESEVED  float64\n",
      " 26  PKT_CLASS         object \n",
      "dtypes: float64(14), int64(8), object(5)\n",
      "memory usage: 461.6+ MB\n",
      "OE LA SHAPE (224709, 27)\n"
     ]
    },
    {
     "name": "stderr",
     "output_type": "stream",
     "text": [
      "C:\\Users\\enzoh\\AppData\\Local\\Temp\\ipykernel_19540\\1985051807.py:15: FutureWarning: The frame.append method is deprecated and will be removed from pandas in a future version. Use pandas.concat instead.\n",
      "  df_tmp = df_tmp.append(df[df['PKT_CLASS'] == 'Normal'].iloc[:500000])\n"
     ]
    },
    {
     "name": "stdout",
     "output_type": "stream",
     "text": [
      "<class 'pandas.core.frame.DataFrame'>\n",
      "Float64Index: 724709 entries, 24.15 to 24.1\n",
      "Data columns (total 27 columns):\n",
      " #   Column            Non-Null Count   Dtype  \n",
      "---  ------            --------------   -----  \n",
      " 0   DES_ADD           724709 non-null  float64\n",
      " 1   PKT_ID            724709 non-null  int64  \n",
      " 2   FROM_NODE         724709 non-null  int64  \n",
      " 3   TO_NODE           724709 non-null  int64  \n",
      " 4   PKT_TYPE          724709 non-null  int32  \n",
      " 5   PKT_SIZE          724709 non-null  int64  \n",
      " 6   FLAGS             724709 non-null  int32  \n",
      " 7   FID               724709 non-null  int64  \n",
      " 8   SEQ_NUMBER        724709 non-null  int64  \n",
      " 9   NUMBER_OF_PKT     724709 non-null  int64  \n",
      " 10  NUMBER_OF_BYTE    724709 non-null  int64  \n",
      " 11  NODE_NAME_FROM    724709 non-null  int32  \n",
      " 12  NODE_NAME_TO      724709 non-null  int32  \n",
      " 13  PKT_IN            724709 non-null  float64\n",
      " 14  PKT_OUT           724709 non-null  float64\n",
      " 15  PKT_R             724709 non-null  float64\n",
      " 16  PKT_DELAY_NODE    724709 non-null  float64\n",
      " 17  PKT_RATE          724709 non-null  float64\n",
      " 18  BYTE_RATE         724709 non-null  float64\n",
      " 19  PKT_AVG_SIZE      724709 non-null  float64\n",
      " 20  UTILIZATION       724709 non-null  float64\n",
      " 21  PKT_DELAY         724709 non-null  float64\n",
      " 22  PKT_SEND_TIME     724709 non-null  float64\n",
      " 23  PKT_RESEVED_TIME  724709 non-null  float64\n",
      " 24  FIRST_PKT_SENT    724709 non-null  float64\n",
      " 25  LAST_PKT_RESEVED  724709 non-null  float64\n",
      " 26  PKT_CLASS         724709 non-null  int32  \n",
      "dtypes: float64(14), int32(5), int64(8)\n",
      "memory usage: 141.0 MB\n"
     ]
    }
   ],
   "source": [
    "# load data final-dataset-short.csv\n",
    "df = pd.read_csv('final-dataset.csv', index_col=0)\n",
    "df.head()\n",
    "print(df.shape)\n",
    "df.info()\n",
    "# show repartition of each class (last column)\n",
    "# sns.countplot(x='PKT_CLASS', data=df)\n",
    "# plt.show()\n",
    "# # show correlation between each column\n",
    "# plt.figure(figsize=(20, 20))\n",
    "# plt.show()\n",
    "#cut 1 000 000 from NORMAL class \n",
    "df_tmp = df[df['PKT_CLASS'] != 'Normal']\n",
    "print(\"OE LA SHAPE\", df_tmp.shape)\n",
    "df_tmp = df_tmp.append(df[df['PKT_CLASS'] == 'Normal'].iloc[:500000])\n",
    "df = df_tmp\n",
    "\n",
    "# change all columns with Dtype Object to numerical data\n",
    "le = LabelEncoder()\n",
    "for col in df.columns:\n",
    "    if df[col].dtype == 'object':\n",
    "        df[col] = le.fit_transform(df[col])\n",
    "\n",
    "df.info()\n",
    "\n",
    "\n",
    "\n",
    "\n",
    "\n"
   ]
  },
  {
   "cell_type": "code",
   "execution_count": 64,
   "metadata": {},
   "outputs": [
    {
     "data": {
      "text/plain": [
       "(724709, 27)"
      ]
     },
     "execution_count": 64,
     "metadata": {},
     "output_type": "execute_result"
    }
   ],
   "source": [
    "df.shape"
   ]
  },
  {
   "cell_type": "code",
   "execution_count": 65,
   "metadata": {},
   "outputs": [
    {
     "data": {
      "text/plain": [
       "<AxesSubplot: xlabel='PKT_CLASS', ylabel='count'>"
      ]
     },
     "execution_count": 65,
     "metadata": {},
     "output_type": "execute_result"
    },
    {
     "data": {
      "image/png": "[encoded data removed]",
      "text/plain": [
       "<Figure size 640x480 with 1 Axes>"
      ]
     },
     "metadata": {},
     "output_type": "display_data"
    }
   ],
   "source": [
    "\n",
    "sns.countplot(x='PKT_CLASS', data=df)\n",
    "\n",
    "\n"
   ]
  },
  {
   "cell_type": "code",
   "execution_count": 67,
   "metadata": {},
   "outputs": [
    {
     "name": "stdout",
     "output_type": "stream",
     "text": [
      "WARNING:tensorflow:Layer lstm_28 will not use cuDNN kernels since it doesn't meet the criteria. It will use a generic GPU kernel as fallback when running on GPU.\n",
      "WARNING:tensorflow:Layer lstm_29 will not use cuDNN kernels since it doesn't meet the criteria. It will use a generic GPU kernel as fallback when running on GPU.\n",
      "Epoch 1/3\n",
      "991/991 [==============================] - 84s 83ms/step - loss: 15244.4814 - accuracy: 0.5672 - val_loss: 0.8266 - val_accuracy: 1.0000\n",
      "Epoch 2/3\n",
      "991/991 [==============================] - 88s 89ms/step - loss: 23.7601 - accuracy: 0.6162 - val_loss: 0.5936 - val_accuracy: 1.0000\n",
      "Epoch 3/3\n",
      "905/991 [==========================>...] - ETA: 6s - loss: 16.6002 - accuracy: 0.5627"
     ]
    }
   ],
   "source": [
    "from sklearn.preprocessing import LabelEncoder\n",
    "import numpy as np\n",
    "\n",
    "# encode the PKT_CLASS column\n",
    "le = LabelEncoder()\n",
    "y = le.fit_transform(df['PKT_CLASS'])\n",
    "\n",
    "# make a model to predict pkt_class\n",
    "#1. create a model\n",
    "model = Sequential()\n",
    "model.add(LSTM(128, input_shape=(df.shape[1]-1, 1), activation='relu', return_sequences=True))\n",
    "model.add(Dropout(0.2))\n",
    "model.add(LSTM(128, activation='relu'))\n",
    "model.add(Dropout(0.2))\n",
    "model.add(Dense(32, activation='relu'))\n",
    "model.add(Dropout(0.2))\n",
    "model.add(Dense(5, activation='softmax'))\n",
    "\n",
    "# # CNN model\n",
    "# model = Sequential()\n",
    "# model.add(Conv1D(filters=64, kernel_size=3, activation='relu', input_shape=(df.shape[1]-1, 1)))\n",
    "# model.add(MaxPooling1D(pool_size=2))\n",
    "# model.add(Flatten())\n",
    "# model.add(Dense(100, activation='relu'))\n",
    "# model.add(Dense(5, activation='softmax'))\n",
    "\n",
    "\n",
    "# 2. compile the model\n",
    "model.compile(loss='sparse_categorical_crossentropy', optimizer='adam', metrics=['accuracy'])\n",
    "\n",
    "# 3. convert the input data to float32 and fit the model\n",
    "with tf.device('/GPU:0'):\n",
    "    x = df.drop('PKT_CLASS', axis=1).values.astype(np.float32)\n",
    "    x = x.reshape(-1, df.shape[1]-1, 1)\n",
    "    model.fit(x, y, epochs=3, validation_split=0.3,batch_size=512)\n"
   ]
  },
  {
   "cell_type": "code",
   "execution_count": null,
   "metadata": {},
   "outputs": [],
   "source": []
  }
 ],
 "metadata": {
  "kernelspec": {
   "display_name": "Python 3",
   "language": "python",
   "name": "python3"
  },
  "language_info": {
   "codemirror_mode": {
    "name": "ipython",
    "version": 3
   },
   "file_extension": ".py",
   "mimetype": "text/x-python",
   "name": "python",
   "nbconvert_exporter": "python",
   "pygments_lexer": "ipython3",
   "version": "3.10.9"
  },
  "orig_nbformat": 4
 },
 "nbformat": 4,
 "nbformat_minor": 2
}
